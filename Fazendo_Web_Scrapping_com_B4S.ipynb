{
  "nbformat": 4,
  "nbformat_minor": 0,
  "metadata": {
    "colab": {
      "name": "Fazendo Web Scrapping com B4S.ipynb",
      "provenance": [],
      "collapsed_sections": [],
      "authorship_tag": "ABX9TyOH29S3+L8qssd2u7RK7WmM",
      "include_colab_link": true
    },
    "kernelspec": {
      "name": "python3",
      "display_name": "Python 3"
    }
  },
  "cells": [
    {
      "cell_type": "markdown",
      "metadata": {
        "id": "view-in-github",
        "colab_type": "text"
      },
      "source": [
        "<a href=\"https://colab.research.google.com/github/LuisMig-code/Fazendo-web-scraping-com-a-biblioteca-BeautifulSoup/blob/main/Fazendo_Web_Scrapping_com_B4S.ipynb\" target=\"_parent\"><img src=\"https://colab.research.google.com/assets/colab-badge.svg\" alt=\"Open In Colab\"/></a>"
      ]
    },
    {
      "cell_type": "markdown",
      "metadata": {
        "id": "uy97J-beyIrH"
      },
      "source": [
        "# Web Scraping usando o BeautifulSoup\r\n",
        "\r\n",
        "\r\n",
        "\r\n",
        "<img src=\"https://scrapingant.com/wp-content/uploads/2020/06/beautifulsoup_logo.png\">"
      ]
    },
    {
      "cell_type": "markdown",
      "metadata": {
        "id": "ttRlHxDbyu0l"
      },
      "source": [
        "**No artigo de hoje pretendo fazer uma espécie de tutorial explicando o que é *Web Scraping* , como fazer um e por que ultilizar**"
      ]
    },
    {
      "cell_type": "markdown",
      "metadata": {
        "id": "EzPvbF0zzmPw"
      },
      "source": [
        "## O que é?"
      ]
    },
    {
      "cell_type": "markdown",
      "metadata": {
        "id": "x3BE3CvYyRFh"
      },
      "source": [
        "Antes de começar quaisquer código ou explcação mais complexa vale responder a seguinte pergunta: O que é *Web Scraping* ? Em uma tradução literal , Web Scrapping significa \"*Raspagem da web*\" e de fato é o que fazemos . Em *Web Scraping* nos podemos pegar um site que contenha informações que nos seja pertinente e \"raspar\" adiquirindo-os . Normalmente o que é feito são coletas automáticas de informações na Internet , geralmente por meio de programas que simulam a navegação humana na Web."
      ]
    },
    {
      "cell_type": "markdown",
      "metadata": {
        "id": "1ZLo-1m4z0p2"
      },
      "source": [
        "## Como fazer?"
      ]
    },
    {
      "cell_type": "markdown",
      "metadata": {
        "id": "abcAMrTLz2bz"
      },
      "source": [
        "Ants de tudo é importante entender um pouco mais da web , como funcionam os sites e sua comunicação com os servidores"
      ]
    },
    {
      "cell_type": "markdown",
      "metadata": {
        "id": "XTckAFXt0W-m"
      },
      "source": [
        "> *Web é uma palavra inglesa que significa teia ou rede. O significado de web ganhou outro sentido com o aparecimento da internet. A web passou a designar a rede que conecta computadores por todo mundo, a World Wide Web (WWW)*.\r\n",
        "\r\n",
        "**[fonte](https://www.significados.com.br/web/)**\r\n",
        "\r\n",
        "\r\n",
        "\r\n"
      ]
    },
    {
      "cell_type": "markdown",
      "metadata": {
        "id": "Kyn9lZ6k0rsr"
      },
      "source": [
        "O mundo da programção surgiu com uma função , automatizar funções e facilitar a vida das pessoas , com relação a web não seria diferente"
      ]
    },
    {
      "cell_type": "markdown",
      "metadata": {
        "id": "QZcrOcxX088x"
      },
      "source": [
        "A *internet* como organismo não representaria nada se não fossem os sites que a compões, basicamento o que dá sentindo a ela são eles. Mas , **o que são sites e como são feitos**? "
      ]
    },
    {
      "cell_type": "markdown",
      "metadata": {
        "id": "eJczmQDP1kEq"
      },
      "source": [
        "\r\n",
        "\r\n",
        "> Site é uma coleção de páginas da web organizadas e localizadas em um servidor na rede. Imagine um site como uma casa onde você reúne seus móveis (as informações dele) em cômodos (as páginas dele).\r\n",
        "\r\n",
        "**[fonte](https://www.hostinger.com.br/tutoriais/o-que-e-site)**\r\n",
        "\r\n",
        "\r\n",
        "\r\n",
        "\r\n"
      ]
    },
    {
      "cell_type": "markdown",
      "metadata": {
        "id": "ZxDGl06W2JVM"
      },
      "source": [
        "Afinal , **como são feitos**?\r\n",
        "\r\n",
        "Todo site é construido com HTML (*HyperText Markup Language*) , ou seja uma linguagem de marcação constituida de tags (isto será importante parao web scraping) , é lá que podemos escrever o conteúdo do site , os títulos , sub-títulos , paragrafos , imagens , etc. De maneira resumida o HTML é como se fosse o esqueleto de um ser humano , sendo a primera base de sustentação do corpo. \r\n",
        "\r\n",
        "Além de HTML , sites são construídos usando também CSS3 e JavaScript . o CSS dá os músculos e a aparência do site enquanto o Java Scrpit dá o \"cérebro\" do site. Eles são importante na construção do site , para não dizer ESSENCIAL , mas por hora , para você que não tenha conhecimento prévio sobre *Web development* , o ideal é que você tenha em mente a ideia de HTML\r\n"
      ]
    },
    {
      "cell_type": "markdown",
      "metadata": {
        "id": "urqCyqwP8OiE"
      },
      "source": [
        "<img src=\"https://external-content.duckduckgo.com/iu/?u=https%3A%2F%2Fi.pinimg.com%2F736x%2F1d%2F92%2Fb3%2F1d92b3e490b01c7bde7dce6cadfb4133.jpg&f=1&nofb=1\">"
      ]
    },
    {
      "cell_type": "markdown",
      "metadata": {
        "id": "Y_-qD8ib3wl_"
      },
      "source": [
        "### Como é esse tal \"*HTML*\" ?"
      ]
    },
    {
      "cell_type": "markdown",
      "metadata": {
        "id": "XroJCveb32GA"
      },
      "source": [
        "Tendo em mente o conceito de html vamos à prática.\r\n",
        "\r\n",
        "Se lembra de que eu te falei que HTML é uma linguagem de marcação constituidas por **tags**? Pois bem , vamos saber como elas aparecem:"
      ]
    },
    {
      "cell_type": "markdown",
      "metadata": {
        "id": "yi-BCxQL4Hpo"
      },
      "source": [
        "```\r\n",
        "<html>\r\n",
        "    <head>\r\n",
        "        <title>Isso é um título em HTML</title>\r\n",
        "    </head>\r\n",
        "    <body>\r\n",
        "        <h1>Isso é um H1</h1>\r\n",
        "        <p>isso é um parágrafo</p>\r\n",
        "        <ul class=\"lista-1\">\r\n",
        "            <li>item 1 da lista</li>\r\n",
        "            <li>item 2 da lista</li>\r\n",
        "            <li>item 3 da lista</li>\r\n",
        "        </ul>\r\n",
        "        <p>A seguir temos uma DIV.</p>\r\n",
        "        <div>\r\n",
        "            <div class=\"classe-da-div\">\r\n",
        "                <h2>Isso é um H2</h2>\r\n",
        "                <ul>\r\n",
        "                    <li>item 1 da lista 2</li>\r\n",
        "                    <li>item 2 da lista 2</li>\r\n",
        "                    <li>item 3 da lista 2</li>\r\n",
        "                    <li>item 4 da lista 2</li>\r\n",
        "                    <li>item 5 da lista 2</li>\r\n",
        "                    <li class=\"vencedor\">item 6 da lista 2<strong> [NEGRITO]</strong></li>\r\n",
        "                </ul>\r\n",
        "            </div>\r\n",
        "            <br>\r\n",
        "        </div>\r\n",
        "    </body>\r\n",
        "</html>\r\n",
        "```\r\n",
        "\r\n"
      ]
    },
    {
      "cell_type": "markdown",
      "metadata": {
        "id": "bidvE8t85zKp"
      },
      "source": [
        "Assim é um HTML. Estranho né? observe bem temos tags. Onde? cada pequena palavras entre  ``` <> </> ``` . Perce que cada tag tem \"começo\" e \"fim\" , assinalados pelo \"*/* \". Cada uma tem uma função , não irei explicar todas , [aqui tem um link onde você pode ver por si só](http://www.macoratti.net/Cursos/html5/html5_7.htm) , que inclusive trás um explicação mais aprofundada acerca destes. \r\n",
        "\r\n",
        "<img src=\"https://tutorial.techaltum.com/images/element.png\">\r\n",
        "\r\n",
        "[*fonte*](https://tutorial.techaltum.com/images/element.png)\r\n",
        "\r\n",
        "Vamos a alguns exemplos , cada ``` H1 , H2 , H3 , H4 ,H5 , H6``` representa uma forma de titulação , ou seja o ```h1``` é a maior titulação (e de maior importâncias) e assim sucessivamente , veja a diferença:\r\n",
        "\r\n",
        "<h1>H1</h1>\r\n",
        "<h2>H2</h2>\r\n",
        "<h3>H3</h3>\r\n",
        "<h4>H4</h4>\r\n",
        "<h5>H5</h5>\r\n",
        "<h6>H6</h6>\r\n",
        "\r\n"
      ]
    },
    {
      "cell_type": "markdown",
      "metadata": {
        "id": "aIZzhwrP7KZV"
      },
      "source": [
        "a tag ```<p></p>``` representa um parágrafo:\r\n",
        "<p>Isto é um parágrafo</p>\r\n",
        "\r\n",
        "\r\n",
        "a tag ``` <ul></ul>``` representa uma lista não ordenada , dentro dela estão itens enumerados com a tag ```<il></il>``` \r\n",
        "\r\n",
        "<p>Lista:</p>\r\n",
        "<ul>\r\n",
        "  <li>item 1</il>\r\n",
        "</ul>"
      ]
    },
    {
      "cell_type": "markdown",
      "metadata": {
        "id": "AI8X_TRZ8Cp2"
      },
      "source": [
        "Por último e talvez uma das mais importântes , temos a tag ```<div></div>``` que cria uma divisão . Esta tag é meramente semântica , não trás alterações no texto , mas serve para organizar o código , por exemplo , você pode criar uma div específica para ter uma lista X e dar a ela uma classe (*class*)."
      ]
    },
    {
      "cell_type": "markdown",
      "metadata": {
        "id": "-Q75Zi1A8Dra"
      },
      "source": [
        "O que são *classes*?\r\n",
        "\r\n",
        "<p> Quando se quer dar \"estilo\" a algum item usando CSS é comum delimitar cada item com uma *class* , por exemplo , caso tenhamos uma *div* apenas para uma determinada lista , e queremos que esta tenha a cor azul e o fundo vermelhor , delimitamos a div com uma classe e no CSS fazemos uma edição visual da seguinte forma:</p>\r\n",
        "\r\n",
        "\r\n",
        "```\r\n",
        "<style>\r\n",
        "\t.minha-classe {\r\n",
        "\t\tcolor: red;\r\n",
        "    background-color = blue ;\r\n",
        "\t}\r\n",
        "</style>\r\n",
        "```\r\n",
        "\r\n",
        "perceba bem que colocamos um \".\" no inicio , ele é necessário para que o CSS saiba que se trata de uma classe\r\n"
      ]
    },
    {
      "cell_type": "markdown",
      "metadata": {
        "id": "ZywR7o0a90V2"
      },
      "source": [
        "### Nosso Primeiro *Scraping*:"
      ]
    },
    {
      "cell_type": "markdown",
      "metadata": {
        "id": "viPxtLfZ94uo"
      },
      "source": [
        "A priori , vamos usar o código html que mostramos acima para começar"
      ]
    },
    {
      "cell_type": "code",
      "metadata": {
        "id": "zTVtwfni9Rlw"
      },
      "source": [
        "html = \"\"\"\r\n",
        "<html>\r\n",
        "    <head>\r\n",
        "        <title>Isso é um título em HTML</title>\r\n",
        "    </head>\r\n",
        "    <body>\r\n",
        "        <h1>Isso é um H1</h1>\r\n",
        "        <p>isso é um parágrafo</p>\r\n",
        "        <ul class=\"lista-1\">\r\n",
        "            <li>item 1 da lista</li>\r\n",
        "            <li>item 2 da lista</li>\r\n",
        "            <li>item 3 da lista</li>\r\n",
        "        </ul>\r\n",
        "        <p>A seguir temos uma DIV.</p>\r\n",
        "        <div>\r\n",
        "            <div class=\"classe-da-div\">\r\n",
        "                <h2>Isso é um H2</h2>\r\n",
        "                <ul>\r\n",
        "                    <li>item 1 da lista 2</li>\r\n",
        "                    <li>item 2 da lista 2</li>\r\n",
        "                    <li>item 3 da lista 2</li>\r\n",
        "                    <li>item 4 da lista 2</li>\r\n",
        "                    <li>item 5 da lista 2</li>\r\n",
        "                    <li class=\"vencedor\">item 6 da lista 2<strong> [NEGRITO]</strong></li>\r\n",
        "                </ul>\r\n",
        "            </div>\r\n",
        "            <br>\r\n",
        "        </div>\r\n",
        "    </body>\r\n",
        "</html>\r\n",
        "\"\"\""
      ],
      "execution_count": 1,
      "outputs": []
    },
    {
      "cell_type": "markdown",
      "metadata": {
        "id": "aNL81L-_-GPC"
      },
      "source": [
        "Aqui já temos um código HTML completo , já lido por uma variável , mas normalmente você usará um link de um site não um código HTML direto em uma variável , posteriormente ensinarei a ler uma página usando apenas um link"
      ]
    },
    {
      "cell_type": "markdown",
      "metadata": {
        "id": "c1YSICCh-sR7"
      },
      "source": [
        "Vamos primeiramente importar tudo o que precisaremos para nossas análises e depois criar nosso Objeto BeatifulSoup:"
      ]
    },
    {
      "cell_type": "code",
      "metadata": {
        "id": "Yw2Iy_hl-Fc9"
      },
      "source": [
        "# Importando pacotes necessários:\r\n",
        "\r\n",
        "from bs4 import BeautifulSoup"
      ],
      "execution_count": 2,
      "outputs": []
    },
    {
      "cell_type": "markdown",
      "metadata": {
        "id": "yr4I1Agg_V5o"
      },
      "source": [
        "antes de tudo vamos ver como está nossa variável html?"
      ]
    },
    {
      "cell_type": "code",
      "metadata": {
        "colab": {
          "base_uri": "https://localhost:8080/",
          "height": 86
        },
        "id": "Mq8kB8se_aFg",
        "outputId": "4eb4d0cc-5612-4908-c585-fbdf263f3fea"
      },
      "source": [
        "html"
      ],
      "execution_count": 3,
      "outputs": [
        {
          "output_type": "execute_result",
          "data": {
            "application/vnd.google.colaboratory.intrinsic+json": {
              "type": "string"
            },
            "text/plain": [
              "'\\n<html>\\n    <head>\\n        <title>Isso é um título em HTML</title>\\n    </head>\\n    <body>\\n        <h1>Isso é um H1</h1>\\n        <p>isso é um parágrafo</p>\\n        <ul class=\"lista-1\">\\n            <li>item 1 da lista</li>\\n            <li>item 2 da lista</li>\\n            <li>item 3 da lista</li>\\n        </ul>\\n        <p>A seguir temos uma DIV.</p>\\n        <div>\\n            <div class=\"classe-da-div\">\\n                <h2>Isso é um H2</h2>\\n                <ul>\\n                    <li>item 1 da lista 2</li>\\n                    <li>item 2 da lista 2</li>\\n                    <li>item 3 da lista 2</li>\\n                    <li>item 4 da lista 2</li>\\n                    <li>item 5 da lista 2</li>\\n                    <li class=\"vencedor\">item 6 da lista 2<strong> [NEGRITO]</strong></li>\\n                </ul>\\n            </div>\\n            <br>\\n        </div>\\n    </body>\\n</html>\\n'"
            ]
          },
          "metadata": {
            "tags": []
          },
          "execution_count": 3
        }
      ]
    },
    {
      "cell_type": "markdown",
      "metadata": {
        "id": "26m9mfH5_cX9"
      },
      "source": [
        "observe que ela está meio \"bagunçada\" , existem espaços em excesso e onde temos quebra de linha foi colocado um \"\\n\" . A fim de facilitar nossa análise seria interessante \"consertar\" isso para evitar quaisquer problemas futuros , para isso vamos criar uma função que faça isso"
      ]
    },
    {
      "cell_type": "code",
      "metadata": {
        "id": "hRTfK0st_6jq"
      },
      "source": [
        "def trata_HTML(input):\r\n",
        "    return \" \".join(input.split()).replace('> <','><')"
      ],
      "execution_count": 4,
      "outputs": []
    },
    {
      "cell_type": "code",
      "metadata": {
        "id": "9Y3dQmpJ_9Xq"
      },
      "source": [
        "html = trata_HTML(html)"
      ],
      "execution_count": 5,
      "outputs": []
    },
    {
      "cell_type": "markdown",
      "metadata": {
        "id": "5mshUHPIABML"
      },
      "source": [
        "Será que deu certo? vamos ver: "
      ]
    },
    {
      "cell_type": "code",
      "metadata": {
        "colab": {
          "base_uri": "https://localhost:8080/",
          "height": 69
        },
        "id": "fKpve7ubAAvE",
        "outputId": "dcb0378e-6311-4736-d9a6-90d378589c1c"
      },
      "source": [
        "html"
      ],
      "execution_count": 6,
      "outputs": [
        {
          "output_type": "execute_result",
          "data": {
            "application/vnd.google.colaboratory.intrinsic+json": {
              "type": "string"
            },
            "text/plain": [
              "'<html><head><title>Isso é um título em HTML</title></head><body><h1>Isso é um H1</h1><p>isso é um parágrafo</p><ul class=\"lista-1\"><li>item 1 da lista</li><li>item 2 da lista</li><li>item 3 da lista</li></ul><p>A seguir temos uma DIV.</p><div><div class=\"classe-da-div\"><h2>Isso é um H2</h2><ul><li>item 1 da lista 2</li><li>item 2 da lista 2</li><li>item 3 da lista 2</li><li>item 4 da lista 2</li><li>item 5 da lista 2</li><li class=\"vencedor\">item 6 da lista 2<strong> [NEGRITO]</strong></li></ul></div><br></div></body></html>'"
            ]
          },
          "metadata": {
            "tags": []
          },
          "execution_count": 6
        }
      ]
    },
    {
      "cell_type": "markdown",
      "metadata": {
        "id": "zuUIMrMwAb71"
      },
      "source": [
        "Aparentemente resolveu.\r\n",
        "\r\n",
        "Vamos agora criar nosso objeto *BeautifulSoup* e dar a ele esse HTML"
      ]
    },
    {
      "cell_type": "code",
      "metadata": {
        "id": "kXeua5lY--bk"
      },
      "source": [
        "soup = BeautifulSoup(html, 'html.parser')"
      ],
      "execution_count": 7,
      "outputs": []
    },
    {
      "cell_type": "markdown",
      "metadata": {
        "id": "2gYRClnn_F-t"
      },
      "source": [
        "O que acha de vermos como está nosso objeto *soup* ?"
      ]
    },
    {
      "cell_type": "code",
      "metadata": {
        "colab": {
          "base_uri": "https://localhost:8080/"
        },
        "id": "rreNiBlu_Edv",
        "outputId": "ea5d8f9d-fb97-4d79-cc2f-51bb13cd3660"
      },
      "source": [
        "soup"
      ],
      "execution_count": 8,
      "outputs": [
        {
          "output_type": "execute_result",
          "data": {
            "text/plain": [
              "<html><head><title>Isso é um título em HTML</title></head><body><h1>Isso é um H1</h1><p>isso é um parágrafo</p><ul class=\"lista-1\"><li>item 1 da lista</li><li>item 2 da lista</li><li>item 3 da lista</li></ul><p>A seguir temos uma DIV.</p><div><div class=\"classe-da-div\"><h2>Isso é um H2</h2><ul><li>item 1 da lista 2</li><li>item 2 da lista 2</li><li>item 3 da lista 2</li><li>item 4 da lista 2</li><li>item 5 da lista 2</li><li class=\"vencedor\">item 6 da lista 2<strong> [NEGRITO]</strong></li></ul></div><br/></div></body></html>"
            ]
          },
          "metadata": {
            "tags": []
          },
          "execution_count": 8
        }
      ]
    },
    {
      "cell_type": "markdown",
      "metadata": {
        "id": "XrhPGhbx_Mma"
      },
      "source": [
        "aqui temos nossa página html toda contida em uma linha . Vamos começar a de fato colocar a mão na massa e \"raspar\" essas página ?"
      ]
    },
    {
      "cell_type": "markdown",
      "metadata": {
        "id": "Y2JVDRfYA6b9"
      },
      "source": [
        "#### Find e *FindAll* :"
      ]
    },
    {
      "cell_type": "markdown",
      "metadata": {
        "id": "gy1FX90SBCKX"
      },
      "source": [
        "O primeiro método que vamos aprender vai ser o **Find** e o **FindAll** , que como o próprio nome sugere , procura ou procura tudo oque pedirmos a ele. Mas como?\r\n",
        "\r\n",
        "```\r\n",
        "find ou findAll (tag_html , class_=\"sua classe\")\r\n",
        "```\r\n",
        "\r\n",
        "Esse método pede pelo menos um desse para começar a localizar um item. Vamos testar?\r\n",
        "\r\n"
      ]
    },
    {
      "cell_type": "code",
      "metadata": {
        "colab": {
          "base_uri": "https://localhost:8080/"
        },
        "id": "Z1dAJ84f_SCA",
        "outputId": "3999bc4d-a798-46e3-c484-40d8afdad260"
      },
      "source": [
        "soup.find(\"div\")"
      ],
      "execution_count": 9,
      "outputs": [
        {
          "output_type": "execute_result",
          "data": {
            "text/plain": [
              "<div><div class=\"classe-da-div\"><h2>Isso é um H2</h2><ul><li>item 1 da lista 2</li><li>item 2 da lista 2</li><li>item 3 da lista 2</li><li>item 4 da lista 2</li><li>item 5 da lista 2</li><li class=\"vencedor\">item 6 da lista 2<strong> [NEGRITO]</strong></li></ul></div><br/></div>"
            ]
          },
          "metadata": {
            "tags": []
          },
          "execution_count": 9
        }
      ]
    },
    {
      "cell_type": "code",
      "metadata": {
        "colab": {
          "base_uri": "https://localhost:8080/"
        },
        "id": "zNNLWuwpCczK",
        "outputId": "c0c75733-c09b-46e7-85ba-3d8f4429cb23"
      },
      "source": [
        "soup.findAll(\"div\")"
      ],
      "execution_count": 10,
      "outputs": [
        {
          "output_type": "execute_result",
          "data": {
            "text/plain": [
              "[<div><div class=\"classe-da-div\"><h2>Isso é um H2</h2><ul><li>item 1 da lista 2</li><li>item 2 da lista 2</li><li>item 3 da lista 2</li><li>item 4 da lista 2</li><li>item 5 da lista 2</li><li class=\"vencedor\">item 6 da lista 2<strong> [NEGRITO]</strong></li></ul></div><br/></div>,\n",
              " <div class=\"classe-da-div\"><h2>Isso é um H2</h2><ul><li>item 1 da lista 2</li><li>item 2 da lista 2</li><li>item 3 da lista 2</li><li>item 4 da lista 2</li><li>item 5 da lista 2</li><li class=\"vencedor\">item 6 da lista 2<strong> [NEGRITO]</strong></li></ul></div>]"
            ]
          },
          "metadata": {
            "tags": []
          },
          "execution_count": 10
        }
      ]
    },
    {
      "cell_type": "markdown",
      "metadata": {
        "id": "iqrzOpQ_Ch5d"
      },
      "source": [
        "Perceba que o método *find* me retorna apenas o primeiro item que ele achar com os parâmetros que passamos , neste caso ele retornou a **primeira** \"div\" que ele achou , já o findAll retorna uma **lista com todos os itens procurados**"
      ]
    },
    {
      "cell_type": "markdown",
      "metadata": {
        "id": "ohaEo3BAC4O_"
      },
      "source": [
        "podemos ser ainda mais específicos"
      ]
    },
    {
      "cell_type": "code",
      "metadata": {
        "colab": {
          "base_uri": "https://localhost:8080/"
        },
        "id": "cLLnjYAZC2vH",
        "outputId": "2bf5e176-58ca-49ca-8394-d74cc770086d"
      },
      "source": [
        "soup.find(\"div\" , class_=\"classe-da-div\")"
      ],
      "execution_count": 11,
      "outputs": [
        {
          "output_type": "execute_result",
          "data": {
            "text/plain": [
              "<div class=\"classe-da-div\"><h2>Isso é um H2</h2><ul><li>item 1 da lista 2</li><li>item 2 da lista 2</li><li>item 3 da lista 2</li><li>item 4 da lista 2</li><li>item 5 da lista 2</li><li class=\"vencedor\">item 6 da lista 2<strong> [NEGRITO]</strong></li></ul></div>"
            ]
          },
          "metadata": {
            "tags": []
          },
          "execution_count": 11
        }
      ]
    },
    {
      "cell_type": "markdown",
      "metadata": {
        "id": "WxXh2wmqC_UZ"
      },
      "source": [
        "O que estamos \"dizendo\" para nosso objeto é : *Busque pra mim a primeira tag div que você achar com a classe 'classe-da-div'* "
      ]
    },
    {
      "cell_type": "markdown",
      "metadata": {
        "id": "qjHTZDvlF7wC"
      },
      "source": [
        "Digamos que queremos alé, vamos buscar um dos itens da lista , o 2° item"
      ]
    },
    {
      "cell_type": "code",
      "metadata": {
        "colab": {
          "base_uri": "https://localhost:8080/"
        },
        "id": "Z-5XGU1YC-po",
        "outputId": "c472ef7c-8969-4716-ef6f-082d8b7e24fd"
      },
      "source": [
        "soup.find(\"div\" , class_=\"classe-da-div\").findAll(\"li\")[1]"
      ],
      "execution_count": 12,
      "outputs": [
        {
          "output_type": "execute_result",
          "data": {
            "text/plain": [
              "<li>item 2 da lista 2</li>"
            ]
          },
          "metadata": {
            "tags": []
          },
          "execution_count": 12
        }
      ]
    },
    {
      "cell_type": "markdown",
      "metadata": {
        "id": "uMkXvHOPGIum"
      },
      "source": [
        "Interessante , agora se você perceber bem , o que estamos pegando é a tag html completa como fariamos para pegar o texto dentro dela?"
      ]
    },
    {
      "cell_type": "markdown",
      "metadata": {
        "id": "7eZzmNG1GS1p"
      },
      "source": [
        "#### get_text()\r\n",
        "\r\n",
        "Este atributo é bem sugestivo e auto-explicativo , o que ele faz é pegar o texto da tag selecionada"
      ]
    },
    {
      "cell_type": "code",
      "metadata": {
        "colab": {
          "base_uri": "https://localhost:8080/",
          "height": 35
        },
        "id": "948DOVy_GFU6",
        "outputId": "bb50c8a0-51b1-4f27-94dc-ff2d79340599"
      },
      "source": [
        "soup.find(\"div\" , class_=\"classe-da-div\").findAll(\"li\")[1].get_text()"
      ],
      "execution_count": 13,
      "outputs": [
        {
          "output_type": "execute_result",
          "data": {
            "application/vnd.google.colaboratory.intrinsic+json": {
              "type": "string"
            },
            "text/plain": [
              "'item 2 da lista 2'"
            ]
          },
          "metadata": {
            "tags": []
          },
          "execution_count": 13
        }
      ]
    },
    {
      "cell_type": "markdown",
      "metadata": {
        "id": "5j9vxj-GGwpv"
      },
      "source": [
        "#### attrs"
      ]
    },
    {
      "cell_type": "markdown",
      "metadata": {
        "id": "9pgQOvkCGyU9"
      },
      "source": [
        "É comum que tags tragam atributos consigo , ou seja , mais informações, neste caso temos apenas uma classe em nossa div , mas podemos ter outros atributos lá , atributos quaisquer mas que tragam informações pertinentes , mas como retê-los?"
      ]
    },
    {
      "cell_type": "code",
      "metadata": {
        "colab": {
          "base_uri": "https://localhost:8080/"
        },
        "id": "V8De1ds1GW3S",
        "outputId": "41cb2419-f524-4cb7-8e83-d39c56f769ff"
      },
      "source": [
        "soup.find(\"div\" , class_=\"classe-da-div\").attrs"
      ],
      "execution_count": 14,
      "outputs": [
        {
          "output_type": "execute_result",
          "data": {
            "text/plain": [
              "{'class': ['classe-da-div']}"
            ]
          },
          "metadata": {
            "tags": []
          },
          "execution_count": 14
        }
      ]
    },
    {
      "cell_type": "markdown",
      "metadata": {
        "id": "o4WZfkn5HHPC"
      },
      "source": [
        "Com o método *attrs* podemos pegar todos os atributos da tag e mostrá-los em um dicionário "
      ]
    },
    {
      "cell_type": "code",
      "metadata": {
        "colab": {
          "base_uri": "https://localhost:8080/"
        },
        "id": "9-wnKnSQHE2J",
        "outputId": "144e95bc-681b-49e6-99b8-328d48860d6c"
      },
      "source": [
        "soup.find(\"div\" , class_=\"classe-da-div\").attrs[\"class\"]"
      ],
      "execution_count": 15,
      "outputs": [
        {
          "output_type": "execute_result",
          "data": {
            "text/plain": [
              "['classe-da-div']"
            ]
          },
          "metadata": {
            "tags": []
          },
          "execution_count": 15
        }
      ]
    },
    {
      "cell_type": "markdown",
      "metadata": {
        "id": "9JnvkDeHHVQM"
      },
      "source": [
        "### Mão na massa:"
      ]
    },
    {
      "cell_type": "markdown",
      "metadata": {
        "id": "XAi6J58RHdaL"
      },
      "source": [
        "É evidente que não pretendo me limitar a um exmplo simples , vamos agora fazer um *Scraping* real de dados da internet usando tudo o que já aprendemos com alguns adicionais"
      ]
    },
    {
      "cell_type": "markdown",
      "metadata": {
        "id": "vdIlQq3zHoEu"
      },
      "source": [
        "**Os dados que iremos \"raspar\" serão do site [AutoLine](https://www.autoline.com.br/) e tudo aqui usado é para fins educacionais e não comerciais , não há quaisquer patrocínio neste artigo.**"
      ]
    },
    {
      "cell_type": "markdown",
      "metadata": {
        "id": "zQC05p6y76EA"
      },
      "source": [
        "#### Abrindo o site"
      ]
    },
    {
      "cell_type": "markdown",
      "metadata": {
        "id": "KCIIDxJZ7_6N"
      },
      "source": [
        "Diferentemente do que fizemos anteriormente , é extremamente não-eficiente se copiássemos o html da página que quisermos fazer a \"raspagem\". Para isso , temos de encontrar um forma de \"abrir\" no site e ler o html dele. o BeautifulSoup dispõe de uma ferramenta como essa"
      ]
    },
    {
      "cell_type": "code",
      "metadata": {
        "id": "TSw5wmYWHRaf"
      },
      "source": [
        "from urllib.request import urlopen"
      ],
      "execution_count": 16,
      "outputs": []
    },
    {
      "cell_type": "code",
      "metadata": {
        "id": "NBu61g_T82V1"
      },
      "source": [
        "url = \"https://busca.autoline.com.br/comprar/carros/novos-seminovos-usados/todos-os-estados/todas-as-cidades/todas-as-marcas/todos-os-modelos/todas-as-versoes/todos-os-anos/todas-as-cores/todos-os-precos/?page=1\""
      ],
      "execution_count": 17,
      "outputs": []
    },
    {
      "cell_type": "markdown",
      "metadata": {
        "id": "inL0mHiI84ol"
      },
      "source": [
        "perceba que no final da nossa URL temos um atributo \"?page=1\" , é fundamental notar isso , pois é com ele que faremos as iterações para o Web Scraping das várias páginas.\r\n",
        "\r\n",
        "\r\n",
        "Vamos ver acessar a página agora"
      ]
    },
    {
      "cell_type": "code",
      "metadata": {
        "id": "ALxq9e7a8396"
      },
      "source": [
        "resposta = urlopen(url)"
      ],
      "execution_count": 18,
      "outputs": []
    },
    {
      "cell_type": "markdown",
      "metadata": {
        "id": "aQS3pMCE9Pjm"
      },
      "source": [
        "acessado a página , vamos agora ler o conteúdo dela"
      ]
    },
    {
      "cell_type": "code",
      "metadata": {
        "id": "uPDteS2r9O9y"
      },
      "source": [
        "html = resposta.read()"
      ],
      "execution_count": 19,
      "outputs": []
    },
    {
      "cell_type": "markdown",
      "metadata": {
        "id": "yGTa57HH9b31"
      },
      "source": [
        "Para o Brasil , o padrão de codificação binária de comprimento variável utilizado é o UTF-8 , por isso vamos converter nosso html para esse padrão"
      ]
    },
    {
      "cell_type": "code",
      "metadata": {
        "id": "2OUWJBbC9WI6"
      },
      "source": [
        "html = html.decode('utf-8')"
      ],
      "execution_count": 20,
      "outputs": []
    },
    {
      "cell_type": "markdown",
      "metadata": {
        "id": "et8rJSJ09uHU"
      },
      "source": [
        "Como já fizemos acima , vamos tratar o nosso html e tirar os espaçamentos e quebras de linha"
      ]
    },
    {
      "cell_type": "code",
      "metadata": {
        "id": "2UiG6vQ09rm6"
      },
      "source": [
        "html = trata_HTML(html)"
      ],
      "execution_count": 21,
      "outputs": []
    },
    {
      "cell_type": "markdown",
      "metadata": {
        "id": "dnuA8t5K92Hk"
      },
      "source": [
        "#### Iniciando a busca por dados:"
      ]
    },
    {
      "cell_type": "markdown",
      "metadata": {
        "id": "ImUZyjIN96HH"
      },
      "source": [
        "Vamos criar um objeto B4S para começar a \"navegar\" no site"
      ]
    },
    {
      "cell_type": "code",
      "metadata": {
        "id": "4mXfkN4O90dh"
      },
      "source": [
        "soup = BeautifulSoup(html , 'html.parser')"
      ],
      "execution_count": 22,
      "outputs": []
    },
    {
      "cell_type": "markdown",
      "metadata": {
        "id": "eHqQYsUk9_ge"
      },
      "source": [
        "A fim de evitar mais problemas , já fui no site e avaliei o que estava buscando.\r\n",
        "\r\n",
        "O que buscamos é:\r\n",
        "\r\n",
        "\r\n",
        "*   div\r\n",
        "*   classe = nm-product-item\r\n",
        "\r\n"
      ]
    },
    {
      "cell_type": "code",
      "metadata": {
        "colab": {
          "base_uri": "https://localhost:8080/"
        },
        "id": "zkhmzXvr9-mc",
        "outputId": "8aefc32c-5ecc-4f1d-ed8f-7ee3073ad42d"
      },
      "source": [
        "soup.find(class_=\"nm-product-item\")"
      ],
      "execution_count": 23,
      "outputs": [
        {
          "output_type": "execute_result",
          "data": {
            "text/plain": [
              "<li class=\"nm-product-item \" data-brand=\"CHEVROLET\" data-category=\"Hatch\" data-city=\"São Paulo\" data-name=\"CHEVROLET JOY\" data-pid=\"13983978\" data-price=\"33960.00\" data-state=\"SP\" data-url=\"//www.autoline.com.br/carro/chevrolet/joy-10-8v-flex-4p-manual/2020/sao-paulo-sp/13983978\" id=\"nm-product-13983978\" itemscope=\"\" itemtype=\"https://schema.org/Product\"><!-- FAVORITE --><a class=\"nm-like-icon no-watch-click\" data-pid=\"13983978\" href=\"#\"></a><!-- product image --><div class=\"nm-product-img-container\"><!-- THUMBNAIL --><a class=\"nm-product-img-link no-watch-click\" href=\"//www.autoline.com.br/carro/chevrolet/joy-10-8v-flex-4p-manual/2020/sao-paulo-sp/13983978\" itemprop=\"url\" title=\"CHEVROLET JOY\"><img alt=\"//www.autoline.com.br/carro/chevrolet/joy-10-8v-flex-4p-manual/2020/sao-paulo-sp/13983978\" class=\"nm-product-img\" itemprop=\"image\" onerror=\"this.setAttribute('src', 'images/sem-foto.png')\" src=\"https://w.cdnautoline.com.br/images/CHEVROLET-JOY-13983978-1.jpg\" title=\"CHEVROLET JOY\"/></a><!-- AUTOMAKER LOGO --><!-- FLAGS --><div class=\"nm-flag-feirao flag-delivery\"> DELIVERY </div></div><div class=\"nm-product-info\"><div class=\"nm-content\"><!-- PRODUCT NAME --><h2><p class=\"nm-product-name\" itemprop=\"name\"><a alt=\"//www.autoline.com.br/carro/chevrolet/joy-10-8v-flex-4p-manual/2020/sao-paulo-sp/13983978\" class=\"no-watch-click\" href=\"//www.autoline.com.br/carro/chevrolet/joy-10-8v-flex-4p-manual/2020/sao-paulo-sp/13983978\" title=\"CHEVROLET JOY\"> CHEVROLET JOY </a></p><!-- PRODUCT DESCRIPTION --><a alt=\"//www.autoline.com.br/carro/chevrolet/joy-10-8v-flex-4p-manual/2020/sao-paulo-sp/13983978\" class=\"nm-description no-watch-click\" href=\"//www.autoline.com.br/carro/chevrolet/joy-10-8v-flex-4p-manual/2020/sao-paulo-sp/13983978\" title=\"CHEVROLET JOY\"> 1.0 8V FLEX 4P MANUAL </a></h2><!-- FEATURES for automaker - list view --><div class=\"nm-features-container nm-automaker-list-view\"><!-- FEATURE: KM --><div class=\"nm-features nm-km \"><span class=\"nm-feature-icon\"></span> 0 </div><!-- FEATURE: YEAR --><div class=\"nm-features nm-year\"><span class=\"nm-feature-icon\"></span> 2019/2020 </div><!-- FEATURE: CITY --><div class=\"nm-features nm-city\"><div class=\"nm-city-tooltip\"> São Paulo, SP </div><span class=\"nm-feature-icon\"></span><span class=\"nm-feature-text\">São Paulo, SP</span></div></div><!-- PRICE BOX --><div class=\"nm-offer\" itemprop=\"offers\" itemscope=\"\" itemtype=\"https://schema.org/Offer\"><!-- PROMOTIONAL INFO AUOTOMAKER --><meta content=\"BRL\" itemprop=\"priceCurrency\"><link href=\"https://schema.org/InStock\" itemprop=\"availability\"/><!-- OLD PRICE --><div class=\"nm-group-old-oruce\"></div><!-- PRICE --><a class=\"nm-price-value no-watch-click\" href=\"//www.autoline.com.br/carro/chevrolet/joy-10-8v-flex-4p-manual/2020/sao-paulo-sp/13983978\" itemprop=\"price\" title=\"CHEVROLET JOY\"> R$ 33.960,00 </a></meta></div></div><aside><!-- PRICING for list type - automaker --><div class=\"nm-automaker-list-view\"><div class=\"nm-offer\" itemprop=\"offers\" itemscope=\"\" itemtype=\"https://schema.org/Offer\"><!-- PROMOTIONAL INFO AUOTOMAKER --><meta content=\"BRL\" itemprop=\"priceCurrency\"><link href=\"https://schema.org/InStock\" itemprop=\"availability\"/><!-- OLD PRICE --><div class=\"nm-group-old-oruce\"></div><!-- PRICE --><a class=\"nm-price-value no-watch-click\" href=\"//www.autoline.com.br/carro/chevrolet/joy-10-8v-flex-4p-manual/2020/sao-paulo-sp/13983978\" itemprop=\"price\" title=\"CHEVROLET JOY\"> R$ 33.960,00 </a></meta></div></div><!-- FEATURES --><div class=\"nm-features-container\"><!-- FEATURE: KM --><div class=\"nm-features nm-km \"><span class=\"nm-feature-icon\"></span> 0 </div><!-- FEATURE: YEAR --><div class=\"nm-features nm-year\"><span class=\"nm-feature-icon\"></span> 2019/2020 </div><!-- FEATURE: CITY --><div class=\"nm-features nm-city\"><div class=\"nm-city-tooltip\"> São Paulo, SP </div><span class=\"nm-feature-icon\"></span><span class=\"nm-feature-text nm-city\">São Paulo</span><span class=\"nm-feature-text nm-state\">/SP</span></div></div><!-- AUTOMAKER OFFER DUE DATE --><!-- ACTIONS --><div class=\"nm-actions\"><!-- SEND PROPOSITION --><span alt=\"//www.autoline.com.br/carro/chevrolet/joy-10-8v-flex-4p-manual/2020/sao-paulo-sp/13983978\" class=\"nm-request btn-neemu-addtocart send-proposal-btn no-watch-click\" data-ad-id=\"13983978\" data-ad-image=\"https://w.cdnautoline.com.br/images/CHEVROLET-JOY-13983978-1.jpg\" data-ad-model=\"1.0 8V FLEX 4P MANUAL\" data-ad-name=\"CHEVROLET JOY\" data-ad-price=\"33.960,00\" data-id-feirao=\"\" data-pid=\"13983978\" data-sku=\"13983978\" title=\"CHEVROLET JOY\"> Enviar Mensagem </span><!-- SEE DETAILS --></div></aside></div></li>"
            ]
          },
          "metadata": {
            "tags": []
          },
          "execution_count": 23
        }
      ]
    },
    {
      "cell_type": "markdown",
      "metadata": {
        "id": "jPa5kq7i-3vj"
      },
      "source": [
        "Entretanto , não buscamos apenas a div em si , queremos os atributos que ela carrega consigo , lá estão dados necessários para nossas análise"
      ]
    },
    {
      "cell_type": "code",
      "metadata": {
        "colab": {
          "base_uri": "https://localhost:8080/"
        },
        "id": "rS_grhyt-2s8",
        "outputId": "72b262c1-386f-4afb-f4a1-1296f79fc297"
      },
      "source": [
        "itens = soup.find(class_=\"nm-product-item\").attrs\r\n",
        "itens"
      ],
      "execution_count": 24,
      "outputs": [
        {
          "output_type": "execute_result",
          "data": {
            "text/plain": [
              "{'class': ['nm-product-item', ''],\n",
              " 'data-brand': 'CHEVROLET',\n",
              " 'data-category': 'Hatch',\n",
              " 'data-city': 'São Paulo',\n",
              " 'data-name': 'CHEVROLET JOY',\n",
              " 'data-pid': '13983978',\n",
              " 'data-price': '33960.00',\n",
              " 'data-state': 'SP',\n",
              " 'data-url': '//www.autoline.com.br/carro/chevrolet/joy-10-8v-flex-4p-manual/2020/sao-paulo-sp/13983978',\n",
              " 'id': 'nm-product-13983978',\n",
              " 'itemscope': '',\n",
              " 'itemtype': 'https://schema.org/Product'}"
            ]
          },
          "metadata": {
            "tags": []
          },
          "execution_count": 24
        }
      ]
    },
    {
      "cell_type": "markdown",
      "metadata": {
        "id": "Jc8-j_Kw_DHX"
      },
      "source": [
        "Com isso conseguimos um dicionário de dados que trás consigo informações relevantes sobre o veículo , como a marca , categoria , nome , estado da federação e etc. Podemos acessar qualquer item da seguinte forma:\r\n",
        "\r\n",
        "\r\n",
        "\r\n",
        "```\r\n",
        "dicionário[\"chave_do_dicionario\"]\r\n",
        "```\r\n",
        "\r\n",
        "Portanto , mão a obra.\r\n",
        "\r\n",
        "\r\n",
        "Para cada item que quero irei guardar em uma variável\r\n"
      ]
    },
    {
      "cell_type": "code",
      "metadata": {
        "colab": {
          "base_uri": "https://localhost:8080/",
          "height": 35
        },
        "id": "JMUHtnIx_CaS",
        "outputId": "fa0e8d80-0e9b-43c3-dddf-295c4e68f94d"
      },
      "source": [
        "marca = itens['data-brand']\r\n",
        "marca"
      ],
      "execution_count": 25,
      "outputs": [
        {
          "output_type": "execute_result",
          "data": {
            "application/vnd.google.colaboratory.intrinsic+json": {
              "type": "string"
            },
            "text/plain": [
              "'CHEVROLET'"
            ]
          },
          "metadata": {
            "tags": []
          },
          "execution_count": 25
        }
      ]
    },
    {
      "cell_type": "code",
      "metadata": {
        "colab": {
          "base_uri": "https://localhost:8080/",
          "height": 35
        },
        "id": "Jb2Vh_uv_i0s",
        "outputId": "83284e00-db01-4a0a-959f-37282551cfd8"
      },
      "source": [
        "cidade = itens[\"data-city\"]\r\n",
        "cidade"
      ],
      "execution_count": 26,
      "outputs": [
        {
          "output_type": "execute_result",
          "data": {
            "application/vnd.google.colaboratory.intrinsic+json": {
              "type": "string"
            },
            "text/plain": [
              "'São Paulo'"
            ]
          },
          "metadata": {
            "tags": []
          },
          "execution_count": 26
        }
      ]
    },
    {
      "cell_type": "code",
      "metadata": {
        "colab": {
          "base_uri": "https://localhost:8080/",
          "height": 35
        },
        "id": "V2ag4EaZ_j7a",
        "outputId": "17ffd904-9499-48ff-b5f1-9992408d00b1"
      },
      "source": [
        "nome = itens['data-name']\r\n",
        "nome"
      ],
      "execution_count": 27,
      "outputs": [
        {
          "output_type": "execute_result",
          "data": {
            "application/vnd.google.colaboratory.intrinsic+json": {
              "type": "string"
            },
            "text/plain": [
              "'CHEVROLET JOY'"
            ]
          },
          "metadata": {
            "tags": []
          },
          "execution_count": 27
        }
      ]
    },
    {
      "cell_type": "code",
      "metadata": {
        "colab": {
          "base_uri": "https://localhost:8080/",
          "height": 35
        },
        "id": "Afglq1Yd_lRq",
        "outputId": "64eec164-7426-420a-ef7d-6306149d0a8c"
      },
      "source": [
        "categoria = itens[\"data-category\"]\r\n",
        "categoria"
      ],
      "execution_count": 28,
      "outputs": [
        {
          "output_type": "execute_result",
          "data": {
            "application/vnd.google.colaboratory.intrinsic+json": {
              "type": "string"
            },
            "text/plain": [
              "'Hatch'"
            ]
          },
          "metadata": {
            "tags": []
          },
          "execution_count": 28
        }
      ]
    },
    {
      "cell_type": "code",
      "metadata": {
        "colab": {
          "base_uri": "https://localhost:8080/",
          "height": 35
        },
        "id": "U3CFfg9v_mYS",
        "outputId": "678a4ab5-7fc3-4f2d-f4c8-edec6e17cf80"
      },
      "source": [
        "estado = itens['data-state']\r\n",
        "estado"
      ],
      "execution_count": 29,
      "outputs": [
        {
          "output_type": "execute_result",
          "data": {
            "application/vnd.google.colaboratory.intrinsic+json": {
              "type": "string"
            },
            "text/plain": [
              "'SP'"
            ]
          },
          "metadata": {
            "tags": []
          },
          "execution_count": 29
        }
      ]
    },
    {
      "cell_type": "code",
      "metadata": {
        "colab": {
          "base_uri": "https://localhost:8080/",
          "height": 35
        },
        "id": "Fp5HrILl_n6i",
        "outputId": "fb51109a-5d83-4dbd-8e10-e12ec098719c"
      },
      "source": [
        "link = itens['data-url'].replace(\"//\",\"\")\r\n",
        "link"
      ],
      "execution_count": 30,
      "outputs": [
        {
          "output_type": "execute_result",
          "data": {
            "application/vnd.google.colaboratory.intrinsic+json": {
              "type": "string"
            },
            "text/plain": [
              "'www.autoline.com.br/carro/chevrolet/joy-10-8v-flex-4p-manual/2020/sao-paulo-sp/13983978'"
            ]
          },
          "metadata": {
            "tags": []
          },
          "execution_count": 30
        }
      ]
    },
    {
      "cell_type": "code",
      "metadata": {
        "colab": {
          "base_uri": "https://localhost:8080/"
        },
        "id": "s2y96RYv_qfR",
        "outputId": "aa5ffebb-8ed9-4d2d-c109-5f6f45200434"
      },
      "source": [
        "preco = itens['data-price']\r\n",
        "preco = float(preco)\r\n",
        "preco"
      ],
      "execution_count": 31,
      "outputs": [
        {
          "output_type": "execute_result",
          "data": {
            "text/plain": [
              "33960.0"
            ]
          },
          "metadata": {
            "tags": []
          },
          "execution_count": 31
        }
      ]
    },
    {
      "cell_type": "markdown",
      "metadata": {
        "id": "qwTYh8PW_sB_"
      },
      "source": [
        "Caso tenha notado , a forma de acessar o preço é diferente , isso porque quando pegamos qualquer dado no *BeautifulSoup* ele nos retorna no formato de string (texto) , por isso devemos transformá-lo para número inteiro ou ponto flutuante."
      ]
    },
    {
      "cell_type": "markdown",
      "metadata": {
        "id": "fKwVC-9j_-JS"
      },
      "source": [
        "Entretanto , não busco apenas estes dados , seria interessante também buscarmos a kilometragem rodada do carro , o ano de fabricação e o ano do modelo."
      ]
    },
    {
      "cell_type": "markdown",
      "metadata": {
        "id": "DaGyLFxuANxi"
      },
      "source": [
        "Previamente procurei os atributos que buscávamos , estes são eles:\r\n",
        "\r\n",
        "\r\n",
        "\r\n",
        "*   div\r\n",
        "*   classe = \"nm-features nm-year\" para o ano de fabricação e modelo\r\n",
        "*   classe = \"nm-features nm-km \" para a kilometragem rodada\r\n",
        "\r\n"
      ]
    },
    {
      "cell_type": "code",
      "metadata": {
        "colab": {
          "base_uri": "https://localhost:8080/"
        },
        "id": "Z2iy5YjP_rei",
        "outputId": "49742abd-c848-478e-df0c-6c32530863c6"
      },
      "source": [
        "ano_de_fabricacao = soup.find(\"div\",class_=\"nm-features nm-year\").get_text()\r\n",
        "ano_de_fabricacao = int(ano_de_fabricacao.split(\"/\")[0].replace(\" \",\"\"))\r\n",
        "ano_de_fabricacao"
      ],
      "execution_count": 32,
      "outputs": [
        {
          "output_type": "execute_result",
          "data": {
            "text/plain": [
              "2019"
            ]
          },
          "metadata": {
            "tags": []
          },
          "execution_count": 32
        }
      ]
    },
    {
      "cell_type": "code",
      "metadata": {
        "colab": {
          "base_uri": "https://localhost:8080/"
        },
        "id": "dY2z1xUPAyul",
        "outputId": "0f6e1d85-1e44-4626-c6fb-de02e6e0b76a"
      },
      "source": [
        "ano_do_modelo = soup.find(\"div\",class_=\"nm-features nm-year\").get_text()\r\n",
        "ano_do_modelo = int(ano_do_modelo.split(\"/\")[1].replace(\" \",\"\"))\r\n",
        "ano_do_modelo"
      ],
      "execution_count": 33,
      "outputs": [
        {
          "output_type": "execute_result",
          "data": {
            "text/plain": [
              "2020"
            ]
          },
          "metadata": {
            "tags": []
          },
          "execution_count": 33
        }
      ]
    },
    {
      "cell_type": "code",
      "metadata": {
        "colab": {
          "base_uri": "https://localhost:8080/"
        },
        "id": "kUYNeex1A3kV",
        "outputId": "9d8bda18-9796-4a64-9eaf-7cf6e6e851da"
      },
      "source": [
        "km_rodados = soup.find(\"div\" , class_=\"nm-features nm-km \").get_text()\r\n",
        "km_rodados = int(km_rodados.replace(\" \",\"\"))\r\n",
        "km_rodados"
      ],
      "execution_count": 34,
      "outputs": [
        {
          "output_type": "execute_result",
          "data": {
            "text/plain": [
              "0"
            ]
          },
          "metadata": {
            "tags": []
          },
          "execution_count": 34
        }
      ]
    },
    {
      "cell_type": "markdown",
      "metadata": {
        "id": "AC7Fg7gsJEzj"
      },
      "source": [
        "Assim como citado já acima , quando queremos dados em forma de números devemos  realizar transformações na variável"
      ]
    },
    {
      "cell_type": "markdown",
      "metadata": {
        "id": "J8c3-tKkgxR6"
      },
      "source": [
        "O que acabamos de fazer foi recuperar os dados que temos em um dos cards (o primeiro) da primeira página . O que fazemos para termos todos os dados da primeira página? simples: feremos um rotina *Web Scraping*"
      ]
    },
    {
      "cell_type": "markdown",
      "metadata": {
        "id": "Hf1livcKhCP2"
      },
      "source": [
        "#### Rotina Web Scraping para a primeira página:"
      ]
    },
    {
      "cell_type": "markdown",
      "metadata": {
        "id": "Bs-b_HGPi3qq"
      },
      "source": [
        "\r\n",
        "\r\n",
        "> Rotina é um sequência de procedimentos, dos costumes habituais\r\n",
        "\r\n",
        "\r\n",
        "Ou seja , quando falamos que vamos fazer uma \"rotina\" *Web Scraping* , falamos que faremos repetidas ações/procedimentos de raspagem de dados.\r\n",
        "\r\n",
        "Em resumo , estamos falando de fazer iterações na página , e jogar os dados recolhidos em um *Dataframe* (um tipo de estrutura de dados da biblioteca Pandas)\r\n"
      ]
    },
    {
      "cell_type": "markdown",
      "metadata": {
        "id": "GkSfGZIfkf1j"
      },
      "source": [
        "É fundamental entendermos que para podermos jogar os dados em um Dataframe temos de primeiramente armazenar o que temos em um dicionário python e depois aglutinar todos os dicionários em uma lista.\r\n",
        "\r\n",
        "\r\n",
        "Para que fique compreensível faremos assim: Em cada item da página teremos um dicionário guardando os dados de **1 único item** , após isso , **juntaremos todos os dicionários em uma lista**"
      ]
    },
    {
      "cell_type": "code",
      "metadata": {
        "id": "Z4WahTxPA53C"
      },
      "source": [
        "# url da página a ser \"raspada\"\r\n",
        "url = \"https://busca.autoline.com.br/comprar/carros/novos-seminovos-usados/todos-os-estados/todas-as-cidades/todas-as-marcas/todos-os-modelos/todas-as-versoes/todos-os-anos/todas-as-cores/todos-os-precos/?page=1\"\r\n",
        "\r\n",
        "# abrindo a url\r\n",
        "response = urlopen(url)\r\n",
        "\r\n",
        "# lendo o arquivo html da url\r\n",
        "html = response.read()\r\n",
        "\r\n",
        "# decodificando para o padrão UTF-8 (Mundial) evitando problemas \r\n",
        "html = html.decode('utf-8')\r\n",
        "\r\n",
        "# Tratando o html (removendo os espaçoes entre as tags)\r\n",
        "html = trata_HTML(html)\r\n",
        "\r\n",
        "# criando um objeto B4S com a html tratada\r\n",
        "soup = BeautifulSoup(html , 'html.parser')\r\n",
        "\r\n",
        "# Listas a serem preenchidas\r\n",
        "dados_gerais = []\r\n",
        "dados_fabricacao = []\r\n",
        "dados_km_rodados = []\r\n",
        "\r\n",
        "# itens iteráveis da página\r\n",
        "itens = soup.findAll(class_=\"nm-product-item\")\r\n",
        "item_dados_de_fabricacao = soup.findAll(\"div\",class_=\"nm-features-container nm-automaker-list-view\")\r\n",
        "item_dados_de_kilometragem = soup.findAll(\"div\",class_=\"nm-features-container nm-automaker-list-view\")\r\n",
        "\r\n",
        "\r\n",
        "#iteração dos itens gerais\r\n",
        "for item in itens:\r\n",
        "    #criando um dicionário vazio para adicionar gradualmente as infos do carro\r\n",
        "    card = {}\r\n",
        "\r\n",
        "    # marca do carro\r\n",
        "    card['marca'] = item.attrs['data-brand']\r\n",
        "    # cidade onde se encontra\r\n",
        "    card['cidade'] = item.attrs[\"data-city\"]\r\n",
        "    # nome do carro \r\n",
        "    card['nome'] = item.attrs['data-name']\r\n",
        "    # tipo do carro(categoria)\r\n",
        "    card[\"categoria\"] = item.attrs[\"data-category\"]\r\n",
        "    # preço do carro\r\n",
        "    preco = item.attrs['data-price']\r\n",
        "    card['preco'] = float(preco)\r\n",
        "    # estado da federação onde o carro se encontra\r\n",
        "    card['estado'] = item.attrs['data-state']\r\n",
        "    # link para acessar a página web do carro\r\n",
        "    card['link'] = item.attrs['data-url'].replace(\"//\",\"\")\r\n",
        "\r\n",
        "    # jogando os dados do dicionário em uma única lista\r\n",
        "    dados_gerais.append(card)\r\n",
        "\r\n",
        "# iteração do modelo e o ano de fabricação\r\n",
        "for item in item_dados_de_fabricacao:\r\n",
        "    #criando um dicionário vazio para adicionar gradualmente as infos do carro\r\n",
        "    card = {}\r\n",
        "\r\n",
        "    # ano de fabricação do carro\r\n",
        "    ano_de_fabricacao = item.find(class_=\"nm-features nm-year\").get_text()\r\n",
        "    ano_de_fabricacao = int(ano_de_fabricacao.split(\"/\")[0].replace(\" \",\"\"))\r\n",
        "    card[\"ano_de_fabricacao\"] = ano_de_fabricacao\r\n",
        "    \r\n",
        "    # ano do modelo do carro\r\n",
        "    ano_do_modelo = item.find(class_=\"nm-features nm-year\").get_text()\r\n",
        "    ano_do_modelo = int(ano_do_modelo.split(\"/\")[1].replace(\" \",\"\"))\r\n",
        "    card[\"ano_do_modelo\"] = ano_do_modelo\r\n",
        "\r\n",
        "    dados_fabricacao.append(card)\r\n",
        "\r\n",
        "# iteração da kilometragem dos carros\r\n",
        "for item in item_dados_de_kilometragem:\r\n",
        "    #criando um dicionário vazio para adicionar gradualmente as infos do carro\r\n",
        "    card = {}\r\n",
        "\r\n",
        "    # kilometragem do carro\r\n",
        "    km_rodados = item.find(class_=\"nm-features nm-km \").get_text()\r\n",
        "    km_rodados = int(km_rodados.replace(\".\",\"\"))\r\n",
        "    card[\"km_rodados\"] = km_rodados\r\n",
        "\r\n",
        "    dados_km_rodados.append(card)  "
      ],
      "execution_count": 42,
      "outputs": []
    },
    {
      "cell_type": "markdown",
      "metadata": {
        "id": "IlaD4Rv1lDHF"
      },
      "source": [
        "Feito isso , temos um lista com os dados gerais , outra guardando a kilometragem e outra guardando o ano de fabricação e o ano do modelo. Com isso , vamos importar a biblioteca do *Pandas* e criar um *DataFrame* com estes dados."
      ]
    },
    {
      "cell_type": "code",
      "metadata": {
        "id": "Kh62Y1T-lYwg"
      },
      "source": [
        "# imports necessários\r\n",
        "\r\n",
        "import pandas as pd"
      ],
      "execution_count": 43,
      "outputs": []
    },
    {
      "cell_type": "code",
      "metadata": {
        "id": "F7fY5weXkOd5"
      },
      "source": [
        "# unindo todos os dados em um único DataFrame \r\n",
        "dados = pd.concat([pd.DataFrame(dados_gerais) , pd.DataFrame(dados_fabricacao) , pd.DataFrame(dados_km_rodados)] , axis=1)"
      ],
      "execution_count": 44,
      "outputs": []
    },
    {
      "cell_type": "code",
      "metadata": {
        "colab": {
          "base_uri": "https://localhost:8080/",
          "height": 793
        },
        "id": "HIlOY6JAlcWl",
        "outputId": "62e56a17-f0d8-42a2-b033-ecf79d10894f"
      },
      "source": [
        "# visualizando os dados\r\n",
        "dados"
      ],
      "execution_count": 45,
      "outputs": [
        {
          "output_type": "execute_result",
          "data": {
            "text/html": [
              "<div>\n",
              "<style scoped>\n",
              "    .dataframe tbody tr th:only-of-type {\n",
              "        vertical-align: middle;\n",
              "    }\n",
              "\n",
              "    .dataframe tbody tr th {\n",
              "        vertical-align: top;\n",
              "    }\n",
              "\n",
              "    .dataframe thead th {\n",
              "        text-align: right;\n",
              "    }\n",
              "</style>\n",
              "<table border=\"1\" class=\"dataframe\">\n",
              "  <thead>\n",
              "    <tr style=\"text-align: right;\">\n",
              "      <th></th>\n",
              "      <th>marca</th>\n",
              "      <th>cidade</th>\n",
              "      <th>nome</th>\n",
              "      <th>categoria</th>\n",
              "      <th>preco</th>\n",
              "      <th>estado</th>\n",
              "      <th>link</th>\n",
              "      <th>ano_de_fabricacao</th>\n",
              "      <th>ano_do_modelo</th>\n",
              "      <th>km_rodados</th>\n",
              "    </tr>\n",
              "  </thead>\n",
              "  <tbody>\n",
              "    <tr>\n",
              "      <th>0</th>\n",
              "      <td>CHEVROLET</td>\n",
              "      <td>São Paulo</td>\n",
              "      <td>CHEVROLET JOY</td>\n",
              "      <td>Hatch</td>\n",
              "      <td>33960.0</td>\n",
              "      <td>SP</td>\n",
              "      <td>www.autoline.com.br/carro/chevrolet/joy-10-8v-...</td>\n",
              "      <td>2019</td>\n",
              "      <td>2020</td>\n",
              "      <td>0</td>\n",
              "    </tr>\n",
              "    <tr>\n",
              "      <th>1</th>\n",
              "      <td>HYUNDAI</td>\n",
              "      <td>São Paulo</td>\n",
              "      <td>HYUNDAI HB20</td>\n",
              "      <td>Hatch</td>\n",
              "      <td>35273.0</td>\n",
              "      <td>SP</td>\n",
              "      <td>www.autoline.com.br/carro/hyundai/hb20-10-visi...</td>\n",
              "      <td>2019</td>\n",
              "      <td>2020</td>\n",
              "      <td>0</td>\n",
              "    </tr>\n",
              "    <tr>\n",
              "      <th>2</th>\n",
              "      <td>HYUNDAI</td>\n",
              "      <td>São Paulo</td>\n",
              "      <td>HYUNDAI HB20S</td>\n",
              "      <td>Sedan</td>\n",
              "      <td>40817.0</td>\n",
              "      <td>SP</td>\n",
              "      <td>www.autoline.com.br/carro/hyundai/hb20s-10-vis...</td>\n",
              "      <td>2020</td>\n",
              "      <td>2021</td>\n",
              "      <td>0</td>\n",
              "    </tr>\n",
              "    <tr>\n",
              "      <th>3</th>\n",
              "      <td>HONDA</td>\n",
              "      <td>São Paulo</td>\n",
              "      <td>HONDA FIT</td>\n",
              "      <td>Mini Van</td>\n",
              "      <td>40000.0</td>\n",
              "      <td>SP</td>\n",
              "      <td>www.autoline.com.br/carro/honda/fit-14-lx-16v-...</td>\n",
              "      <td>2013</td>\n",
              "      <td>2014</td>\n",
              "      <td>78348</td>\n",
              "    </tr>\n",
              "    <tr>\n",
              "      <th>4</th>\n",
              "      <td>FIAT</td>\n",
              "      <td>São Paulo</td>\n",
              "      <td>FIAT UNO</td>\n",
              "      <td>Hatch</td>\n",
              "      <td>14990.0</td>\n",
              "      <td>SP</td>\n",
              "      <td>www.autoline.com.br/carro/fiat/uno-10-mille-fi...</td>\n",
              "      <td>2011</td>\n",
              "      <td>2012</td>\n",
              "      <td>15990</td>\n",
              "    </tr>\n",
              "    <tr>\n",
              "      <th>5</th>\n",
              "      <td>CHEVROLET</td>\n",
              "      <td>São Paulo</td>\n",
              "      <td>CHEVROLET TRACKER</td>\n",
              "      <td>SUV</td>\n",
              "      <td>54780.0</td>\n",
              "      <td>SP</td>\n",
              "      <td>www.autoline.com.br/carro/chevrolet/tracker-18...</td>\n",
              "      <td>2015</td>\n",
              "      <td>2015</td>\n",
              "      <td>75000</td>\n",
              "    </tr>\n",
              "    <tr>\n",
              "      <th>6</th>\n",
              "      <td>CHEVROLET</td>\n",
              "      <td>São Paulo</td>\n",
              "      <td>CHEVROLET ONIX</td>\n",
              "      <td>Hatch</td>\n",
              "      <td>41802.0</td>\n",
              "      <td>SP</td>\n",
              "      <td>www.autoline.com.br/carro/chevrolet/onix-10-lt...</td>\n",
              "      <td>2020</td>\n",
              "      <td>2020</td>\n",
              "      <td>0</td>\n",
              "    </tr>\n",
              "    <tr>\n",
              "      <th>7</th>\n",
              "      <td>VOLKSWAGEN</td>\n",
              "      <td>São Paulo</td>\n",
              "      <td>VOLKSWAGEN VIRTUS</td>\n",
              "      <td>Sedan</td>\n",
              "      <td>56790.0</td>\n",
              "      <td>SP</td>\n",
              "      <td>www.autoline.com.br/carro/volkswagen/virtus-16...</td>\n",
              "      <td>2018</td>\n",
              "      <td>2018</td>\n",
              "      <td>75281</td>\n",
              "    </tr>\n",
              "    <tr>\n",
              "      <th>8</th>\n",
              "      <td>CHEVROLET</td>\n",
              "      <td>Rio de Janeiro</td>\n",
              "      <td>CHEVROLET ONIX</td>\n",
              "      <td>Hatch</td>\n",
              "      <td>26900.0</td>\n",
              "      <td>RJ</td>\n",
              "      <td>www.autoline.com.br/carro/chevrolet/onix-10-jo...</td>\n",
              "      <td>2017</td>\n",
              "      <td>2017</td>\n",
              "      <td>72000</td>\n",
              "    </tr>\n",
              "    <tr>\n",
              "      <th>9</th>\n",
              "      <td>CHEVROLET</td>\n",
              "      <td>São Paulo</td>\n",
              "      <td>CHEVROLET ONIX</td>\n",
              "      <td>Hatch</td>\n",
              "      <td>52089.0</td>\n",
              "      <td>SP</td>\n",
              "      <td>www.autoline.com.br/carro/chevrolet/onix-10-tu...</td>\n",
              "      <td>2020</td>\n",
              "      <td>2021</td>\n",
              "      <td>0</td>\n",
              "    </tr>\n",
              "    <tr>\n",
              "      <th>10</th>\n",
              "      <td>CHEVROLET</td>\n",
              "      <td>São Paulo</td>\n",
              "      <td>CHEVROLET JOY</td>\n",
              "      <td>Hatch</td>\n",
              "      <td>31391.0</td>\n",
              "      <td>SP</td>\n",
              "      <td>www.autoline.com.br/carro/chevrolet/joy-10-8v-...</td>\n",
              "      <td>2019</td>\n",
              "      <td>2020</td>\n",
              "      <td>0</td>\n",
              "    </tr>\n",
              "    <tr>\n",
              "      <th>11</th>\n",
              "      <td>HONDA</td>\n",
              "      <td>São Paulo</td>\n",
              "      <td>HONDA CIVIC</td>\n",
              "      <td>Sedan</td>\n",
              "      <td>102000.0</td>\n",
              "      <td>SP</td>\n",
              "      <td>www.autoline.com.br/carro/honda/civic-20-exl-1...</td>\n",
              "      <td>2019</td>\n",
              "      <td>2019</td>\n",
              "      <td>6070</td>\n",
              "    </tr>\n",
              "    <tr>\n",
              "      <th>12</th>\n",
              "      <td>FIAT</td>\n",
              "      <td>São Paulo</td>\n",
              "      <td>FIAT MOBI</td>\n",
              "      <td>Hatch</td>\n",
              "      <td>29000.0</td>\n",
              "      <td>SP</td>\n",
              "      <td>www.autoline.com.br/carro/fiat/mobi-10-evo-eas...</td>\n",
              "      <td>2018</td>\n",
              "      <td>2018</td>\n",
              "      <td>27000</td>\n",
              "    </tr>\n",
              "    <tr>\n",
              "      <th>13</th>\n",
              "      <td>CHEVROLET</td>\n",
              "      <td>São Paulo</td>\n",
              "      <td>CHEVROLET SPIN</td>\n",
              "      <td>Hatch</td>\n",
              "      <td>94499.0</td>\n",
              "      <td>SP</td>\n",
              "      <td>www.autoline.com.br/carro/chevrolet/spin-18-pr...</td>\n",
              "      <td>2020</td>\n",
              "      <td>2021</td>\n",
              "      <td>0</td>\n",
              "    </tr>\n",
              "    <tr>\n",
              "      <th>14</th>\n",
              "      <td>HYUNDAI</td>\n",
              "      <td>São Paulo</td>\n",
              "      <td>HYUNDAI IX35</td>\n",
              "      <td>Hatch</td>\n",
              "      <td>58899.0</td>\n",
              "      <td>SP</td>\n",
              "      <td>www.autoline.com.br/carro/hyundai/ix35-20-16v-...</td>\n",
              "      <td>2013</td>\n",
              "      <td>2014</td>\n",
              "      <td>109900</td>\n",
              "    </tr>\n",
              "    <tr>\n",
              "      <th>15</th>\n",
              "      <td>CHEVROLET</td>\n",
              "      <td>São Paulo</td>\n",
              "      <td>CHEVROLET ONIX</td>\n",
              "      <td>Hatch</td>\n",
              "      <td>41900.0</td>\n",
              "      <td>SP</td>\n",
              "      <td>www.autoline.com.br/carro/chevrolet/onix-14-lt...</td>\n",
              "      <td>2015</td>\n",
              "      <td>2015</td>\n",
              "      <td>87408</td>\n",
              "    </tr>\n",
              "    <tr>\n",
              "      <th>16</th>\n",
              "      <td>RENAULT</td>\n",
              "      <td>São Paulo</td>\n",
              "      <td>RENAULT SANDERO</td>\n",
              "      <td>Hatch</td>\n",
              "      <td>19900.0</td>\n",
              "      <td>SP</td>\n",
              "      <td>www.autoline.com.br/carro/renault/sandero-16-e...</td>\n",
              "      <td>2010</td>\n",
              "      <td>2010</td>\n",
              "      <td>156453</td>\n",
              "    </tr>\n",
              "    <tr>\n",
              "      <th>17</th>\n",
              "      <td>JEEP</td>\n",
              "      <td>São Paulo</td>\n",
              "      <td>JEEP RENEGADE</td>\n",
              "      <td>SUV</td>\n",
              "      <td>68990.0</td>\n",
              "      <td>SP</td>\n",
              "      <td>www.autoline.com.br/carro/jeep/renegade-18-spo...</td>\n",
              "      <td>2016</td>\n",
              "      <td>2017</td>\n",
              "      <td>47253</td>\n",
              "    </tr>\n",
              "    <tr>\n",
              "      <th>18</th>\n",
              "      <td>HYUNDAI</td>\n",
              "      <td>São Paulo</td>\n",
              "      <td>HYUNDAI TUCSON</td>\n",
              "      <td>Hatch</td>\n",
              "      <td>57990.0</td>\n",
              "      <td>SP</td>\n",
              "      <td>www.autoline.com.br/carro/hyundai/tucson-20-gl...</td>\n",
              "      <td>2015</td>\n",
              "      <td>2016</td>\n",
              "      <td>40009</td>\n",
              "    </tr>\n",
              "    <tr>\n",
              "      <th>19</th>\n",
              "      <td>FORD</td>\n",
              "      <td>São Paulo</td>\n",
              "      <td>FORD RANGER</td>\n",
              "      <td>Picape</td>\n",
              "      <td>89890.0</td>\n",
              "      <td>SP</td>\n",
              "      <td>www.autoline.com.br/carro/ford/ranger-22-cd-xl...</td>\n",
              "      <td>2013</td>\n",
              "      <td>2013</td>\n",
              "      <td>73000</td>\n",
              "    </tr>\n",
              "    <tr>\n",
              "      <th>20</th>\n",
              "      <td>HYUNDAI</td>\n",
              "      <td>São Paulo</td>\n",
              "      <td>HYUNDAI TUCSON</td>\n",
              "      <td>Utilitário</td>\n",
              "      <td>29900.0</td>\n",
              "      <td>SP</td>\n",
              "      <td>www.autoline.com.br/carro/hyundai/tucson-20-gl...</td>\n",
              "      <td>2011</td>\n",
              "      <td>2011</td>\n",
              "      <td>161229</td>\n",
              "    </tr>\n",
              "    <tr>\n",
              "      <th>21</th>\n",
              "      <td>MERCEDES-BENZ</td>\n",
              "      <td>São Paulo</td>\n",
              "      <td>MERCEDES-BENZ A 200</td>\n",
              "      <td>Sedan</td>\n",
              "      <td>215880.0</td>\n",
              "      <td>SP</td>\n",
              "      <td>www.autoline.com.br/carro/mercedes-benz/a-200-...</td>\n",
              "      <td>2019</td>\n",
              "      <td>2020</td>\n",
              "      <td>4100</td>\n",
              "    </tr>\n",
              "    <tr>\n",
              "      <th>22</th>\n",
              "      <td>CITROEN</td>\n",
              "      <td>São Paulo</td>\n",
              "      <td>CITROEN AIRCROSS</td>\n",
              "      <td>SUV</td>\n",
              "      <td>56880.0</td>\n",
              "      <td>SP</td>\n",
              "      <td>www.autoline.com.br/carro/citroen/aircross-16-...</td>\n",
              "      <td>2017</td>\n",
              "      <td>2017</td>\n",
              "      <td>28000</td>\n",
              "    </tr>\n",
              "    <tr>\n",
              "      <th>23</th>\n",
              "      <td>RENAULT</td>\n",
              "      <td>São Paulo</td>\n",
              "      <td>RENAULT KWID</td>\n",
              "      <td>Hatch</td>\n",
              "      <td>26990.0</td>\n",
              "      <td>SP</td>\n",
              "      <td>www.autoline.com.br/carro/renault/kwid-10-life...</td>\n",
              "      <td>2020</td>\n",
              "      <td>2021</td>\n",
              "      <td>0</td>\n",
              "    </tr>\n",
              "  </tbody>\n",
              "</table>\n",
              "</div>"
            ],
            "text/plain": [
              "            marca          cidade  ... ano_do_modelo km_rodados\n",
              "0       CHEVROLET       São Paulo  ...          2020          0\n",
              "1         HYUNDAI       São Paulo  ...          2020          0\n",
              "2         HYUNDAI       São Paulo  ...          2021          0\n",
              "3           HONDA       São Paulo  ...          2014      78348\n",
              "4            FIAT       São Paulo  ...          2012      15990\n",
              "5       CHEVROLET       São Paulo  ...          2015      75000\n",
              "6       CHEVROLET       São Paulo  ...          2020          0\n",
              "7      VOLKSWAGEN       São Paulo  ...          2018      75281\n",
              "8       CHEVROLET  Rio de Janeiro  ...          2017      72000\n",
              "9       CHEVROLET       São Paulo  ...          2021          0\n",
              "10      CHEVROLET       São Paulo  ...          2020          0\n",
              "11          HONDA       São Paulo  ...          2019       6070\n",
              "12           FIAT       São Paulo  ...          2018      27000\n",
              "13      CHEVROLET       São Paulo  ...          2021          0\n",
              "14        HYUNDAI       São Paulo  ...          2014     109900\n",
              "15      CHEVROLET       São Paulo  ...          2015      87408\n",
              "16        RENAULT       São Paulo  ...          2010     156453\n",
              "17           JEEP       São Paulo  ...          2017      47253\n",
              "18        HYUNDAI       São Paulo  ...          2016      40009\n",
              "19           FORD       São Paulo  ...          2013      73000\n",
              "20        HYUNDAI       São Paulo  ...          2011     161229\n",
              "21  MERCEDES-BENZ       São Paulo  ...          2020       4100\n",
              "22        CITROEN       São Paulo  ...          2017      28000\n",
              "23        RENAULT       São Paulo  ...          2021          0\n",
              "\n",
              "[24 rows x 10 columns]"
            ]
          },
          "metadata": {
            "tags": []
          },
          "execution_count": 45
        }
      ]
    },
    {
      "cell_type": "markdown",
      "metadata": {
        "id": "Kii3LBgPlmLU"
      },
      "source": [
        "Como podemos ver , temos um *Dataframe* com 24 entradas que incluem tudo aquilo que queremos. \r\n",
        "\r\n",
        "Entretanto , observe que apenas 24 dados não é o suficiente , principalmente quando queremos fazer algum modelo de Machine Learning , para isso será necessários \"raspar\" os dados de outra páginas , vamos criar outra rotina *Web Scraping*"
      ]
    },
    {
      "cell_type": "markdown",
      "metadata": {
        "id": "kd07fNLKmw2i"
      },
      "source": [
        "#### Rotina Web Scraping para outras páginas"
      ]
    },
    {
      "cell_type": "markdown",
      "metadata": {
        "id": "H7IQUDtom13k"
      },
      "source": [
        "A lógica a ser seguida aqui será semelhante a da primeira página , mas dessa vez teremos que fazer 2 iterações , uma dentro da outra , pulando páginas a partir do link , pois no fim de cada link temos um atributo de página que podemos mudar de acordo com a página que queremos:\r\n",
        "\r\n",
        "\"*?page=[número da página que queremos]*\""
      ]
    },
    {
      "cell_type": "markdown",
      "metadata": {
        "id": "6FUxHW-8oP4D"
      },
      "source": [
        "Mas antes de tudo , o que temos de ter em mente é: Quanto mais páginas quisermos , mais processamento será gasto , ou seja , podemo pedir 2 mil páginas mas nos custará mais tempo . O ideal é que você estabeleça um número de páginas a serem raspadas que já contenha dados sufientes para análises , o fato de você ter 4 mil dados ou 4 milhões vai depender da sua necessidade.\r\n",
        "\r\n",
        "Neste primeiro exemplo me limitarei a raspar apenas 100 páginas , o que no fim vai me dar um total de 2400 entradas"
      ]
    },
    {
      "cell_type": "code",
      "metadata": {
        "id": "e40S8YyZlfUl"
      },
      "source": [
        "# Listas a serem preenchidas\r\n",
        "dados_gerais = []\r\n",
        "dados_fabricacao = []\r\n",
        "dados_km_rodados = []\r\n",
        "\r\n",
        "# itens iteráveis da página\r\n",
        "itens = soup.findAll(class_=\"nm-product-item\")\r\n",
        "item_dados_de_fabricacao = soup.findAll(\"div\",class_=\"nm-features-container nm-automaker-list-view\")\r\n",
        "item_dados_de_kilometragem = soup.findAll(\"div\",class_=\"nm-features-container nm-automaker-list-view\")\r\n",
        "\r\n",
        "# Número de páginas que queremos\r\n",
        "paginas = 100\r\n",
        "\r\n",
        "for pagina in range(0,paginas):\r\n",
        "  # url da página a ser \"raspada\"\r\n",
        "  url = \"https://busca.autoline.com.br/comprar/carros/novos-seminovos-usados/todos-os-estados/todas-as-cidades/todas-as-marcas/todos-os-modelos/todas-as-versoes/todos-os-anos/todas-as-cores/todos-os-precos/?page={}\".format(pagina)\r\n",
        "\r\n",
        "  # abrindo a url\r\n",
        "  response = urlopen(url)\r\n",
        "\r\n",
        "  # lendo o arquivo html da url\r\n",
        "  html = response.read()\r\n",
        "\r\n",
        "  # decodificando para o padrão UTF-8 (Mundial) evitando problemas \r\n",
        "  html = html.decode('utf-8')\r\n",
        "\r\n",
        "  # Tratando o html (removendo os espaçoes entre as tags)\r\n",
        "  html = trata_HTML(html)\r\n",
        "\r\n",
        "  # criando um objeto B4S com a html tratada\r\n",
        "  soup = BeautifulSoup(html , 'html.parser')\r\n",
        "\r\n",
        "  #iteração dos itens gerais\r\n",
        "  for item in itens:\r\n",
        "    #criando um dicionário vazio para adicionar gradualmente as infos do carro\r\n",
        "    card = {}\r\n",
        "\r\n",
        "    # marca do carro\r\n",
        "    card['marca'] = item.attrs['data-brand']\r\n",
        "    # cidade onde se encontra\r\n",
        "    card['cidade'] = item.attrs[\"data-city\"]\r\n",
        "    # nome do carro \r\n",
        "    card['nome'] = item.attrs['data-name']\r\n",
        "    # tipo do carro(categoria)\r\n",
        "    card[\"categoria\"] = item.attrs[\"data-category\"]\r\n",
        "    # preço do carro\r\n",
        "    preco = item.attrs['data-price']\r\n",
        "    card['preco'] = float(preco)\r\n",
        "    # estado da federação onde o carro se encontra\r\n",
        "    card['estado'] = item.attrs['data-state']\r\n",
        "    # link para acessar a página web do carro\r\n",
        "    card['link'] = item.attrs['data-url'].replace(\"//\",\"\")\r\n",
        "\r\n",
        "    # jogando os dados do dicionário em uma única lista\r\n",
        "    dados_gerais.append(card)\r\n",
        "\r\n",
        "  # iteração do modelo e o ano de fabricação\r\n",
        "  for item in item_dados_de_fabricacao:\r\n",
        "    #criando um dicionário vazio para adicionar gradualmente as infos do carro\r\n",
        "    card = {}\r\n",
        "\r\n",
        "    # ano de fabricação do carro\r\n",
        "    ano_de_fabricacao = item.find(class_=\"nm-features nm-year\").get_text()\r\n",
        "    ano_de_fabricacao = int(ano_de_fabricacao.split(\"/\")[0].replace(\" \",\"\"))\r\n",
        "    card[\"ano_de_fabricacao\"] = ano_de_fabricacao\r\n",
        "    \r\n",
        "    # ano do modelo do carro\r\n",
        "    ano_do_modelo = item.find(class_=\"nm-features nm-year\").get_text()\r\n",
        "    ano_do_modelo = int(ano_do_modelo.split(\"/\")[1].replace(\" \",\"\"))\r\n",
        "    card[\"ano_do_modelo\"] = ano_do_modelo\r\n",
        "\r\n",
        "    dados_fabricacao.append(card)\r\n",
        "\r\n",
        "  # iteração da kilometragem dos carros\r\n",
        "  for item in item_dados_de_kilometragem:\r\n",
        "    #criando um dicionário vazio para adicionar gradualmente as infos do carro\r\n",
        "    card = {}\r\n",
        "\r\n",
        "    # kilometragem do carro\r\n",
        "    km_rodados = item.find(class_=\"nm-features nm-km \").get_text()\r\n",
        "    km_rodados = int(km_rodados.replace(\".\",\"\"))\r\n",
        "    card[\"km_rodados\"] = km_rodados\r\n",
        "\r\n",
        "    dados_km_rodados.append(card)  "
      ],
      "execution_count": 46,
      "outputs": []
    },
    {
      "cell_type": "code",
      "metadata": {
        "id": "KE6lFzAbp-hJ"
      },
      "source": [
        "# unindo todos os dados em um único DataFrame \r\n",
        "dados = pd.concat([pd.DataFrame(dados_gerais) , pd.DataFrame(dados_fabricacao) , pd.DataFrame(dados_km_rodados)] , axis=1)"
      ],
      "execution_count": 47,
      "outputs": []
    },
    {
      "cell_type": "code",
      "metadata": {
        "colab": {
          "base_uri": "https://localhost:8080/",
          "height": 204
        },
        "id": "e2obATvVp-2E",
        "outputId": "62c42d31-9b7a-414b-9bd3-44a3b8597b98"
      },
      "source": [
        "# visualisando os dados\r\n",
        "dados.head()"
      ],
      "execution_count": 49,
      "outputs": [
        {
          "output_type": "execute_result",
          "data": {
            "text/html": [
              "<div>\n",
              "<style scoped>\n",
              "    .dataframe tbody tr th:only-of-type {\n",
              "        vertical-align: middle;\n",
              "    }\n",
              "\n",
              "    .dataframe tbody tr th {\n",
              "        vertical-align: top;\n",
              "    }\n",
              "\n",
              "    .dataframe thead th {\n",
              "        text-align: right;\n",
              "    }\n",
              "</style>\n",
              "<table border=\"1\" class=\"dataframe\">\n",
              "  <thead>\n",
              "    <tr style=\"text-align: right;\">\n",
              "      <th></th>\n",
              "      <th>marca</th>\n",
              "      <th>cidade</th>\n",
              "      <th>nome</th>\n",
              "      <th>categoria</th>\n",
              "      <th>preco</th>\n",
              "      <th>estado</th>\n",
              "      <th>link</th>\n",
              "      <th>ano_de_fabricacao</th>\n",
              "      <th>ano_do_modelo</th>\n",
              "      <th>km_rodados</th>\n",
              "    </tr>\n",
              "  </thead>\n",
              "  <tbody>\n",
              "    <tr>\n",
              "      <th>0</th>\n",
              "      <td>CHEVROLET</td>\n",
              "      <td>São Paulo</td>\n",
              "      <td>CHEVROLET JOY</td>\n",
              "      <td>Hatch</td>\n",
              "      <td>33960.0</td>\n",
              "      <td>SP</td>\n",
              "      <td>www.autoline.com.br/carro/chevrolet/joy-10-8v-...</td>\n",
              "      <td>2019</td>\n",
              "      <td>2020</td>\n",
              "      <td>0</td>\n",
              "    </tr>\n",
              "    <tr>\n",
              "      <th>1</th>\n",
              "      <td>HYUNDAI</td>\n",
              "      <td>São Paulo</td>\n",
              "      <td>HYUNDAI HB20</td>\n",
              "      <td>Hatch</td>\n",
              "      <td>35273.0</td>\n",
              "      <td>SP</td>\n",
              "      <td>www.autoline.com.br/carro/hyundai/hb20-10-visi...</td>\n",
              "      <td>2019</td>\n",
              "      <td>2020</td>\n",
              "      <td>0</td>\n",
              "    </tr>\n",
              "    <tr>\n",
              "      <th>2</th>\n",
              "      <td>HYUNDAI</td>\n",
              "      <td>São Paulo</td>\n",
              "      <td>HYUNDAI HB20S</td>\n",
              "      <td>Sedan</td>\n",
              "      <td>40817.0</td>\n",
              "      <td>SP</td>\n",
              "      <td>www.autoline.com.br/carro/hyundai/hb20s-10-vis...</td>\n",
              "      <td>2020</td>\n",
              "      <td>2021</td>\n",
              "      <td>0</td>\n",
              "    </tr>\n",
              "    <tr>\n",
              "      <th>3</th>\n",
              "      <td>HONDA</td>\n",
              "      <td>São Paulo</td>\n",
              "      <td>HONDA FIT</td>\n",
              "      <td>Mini Van</td>\n",
              "      <td>40000.0</td>\n",
              "      <td>SP</td>\n",
              "      <td>www.autoline.com.br/carro/honda/fit-14-lx-16v-...</td>\n",
              "      <td>2013</td>\n",
              "      <td>2014</td>\n",
              "      <td>78348</td>\n",
              "    </tr>\n",
              "    <tr>\n",
              "      <th>4</th>\n",
              "      <td>FIAT</td>\n",
              "      <td>São Paulo</td>\n",
              "      <td>FIAT UNO</td>\n",
              "      <td>Hatch</td>\n",
              "      <td>14990.0</td>\n",
              "      <td>SP</td>\n",
              "      <td>www.autoline.com.br/carro/fiat/uno-10-mille-fi...</td>\n",
              "      <td>2011</td>\n",
              "      <td>2012</td>\n",
              "      <td>15990</td>\n",
              "    </tr>\n",
              "  </tbody>\n",
              "</table>\n",
              "</div>"
            ],
            "text/plain": [
              "       marca     cidade  ... ano_do_modelo km_rodados\n",
              "0  CHEVROLET  São Paulo  ...          2020          0\n",
              "1    HYUNDAI  São Paulo  ...          2020          0\n",
              "2    HYUNDAI  São Paulo  ...          2021          0\n",
              "3      HONDA  São Paulo  ...          2014      78348\n",
              "4       FIAT  São Paulo  ...          2012      15990\n",
              "\n",
              "[5 rows x 10 columns]"
            ]
          },
          "metadata": {
            "tags": []
          },
          "execution_count": 49
        }
      ]
    },
    {
      "cell_type": "code",
      "metadata": {
        "colab": {
          "base_uri": "https://localhost:8080/"
        },
        "id": "3IEGSmkZqCUs",
        "outputId": "12f9c231-257f-4de7-fe0d-94b98df9df1d"
      },
      "source": [
        "# quantidade de dados:\r\n",
        "print(\"temos {} colunas e {} linhas\".format(dados.shape[1],dados.shape[0]))"
      ],
      "execution_count": 50,
      "outputs": [
        {
          "output_type": "stream",
          "text": [
            "temos 10 colunas e 2400 linhas\n"
          ],
          "name": "stdout"
        }
      ]
    },
    {
      "cell_type": "markdown",
      "metadata": {
        "id": "Oqzs6aazqij0"
      },
      "source": [
        "#### Exportando nossos dados:"
      ]
    },
    {
      "cell_type": "markdown",
      "metadata": {
        "id": "61goR5NxrO3y"
      },
      "source": [
        "Após termos criado um *DataFrame* , é importante que saibamos exportar estes dados e fazer o download do mesmo para nossa máquina , a fim de posteriormente usar eles.\r\n",
        "\r\n",
        "obs: Aqui estou usando o GoogleColab , o que significa que após exportar tenho de baixá-lo , mas caso você esteja usando o Jupyter , ele automaticamente aloca o dado na sua máquina"
      ]
    },
    {
      "cell_type": "code",
      "metadata": {
        "id": "t2u0a-VEqg8k"
      },
      "source": [
        "# exportando :\r\n",
        "dados.to_csv('cars.csv',index=False,encoding='utf-8-sig')"
      ],
      "execution_count": 56,
      "outputs": []
    },
    {
      "cell_type": "code",
      "metadata": {
        "colab": {
          "base_uri": "https://localhost:8080/",
          "height": 419
        },
        "id": "T5Dj38gQrxHk",
        "outputId": "b1048db6-2775-4484-aedb-5d3d959ff6cb"
      },
      "source": [
        "# Visualisando  os dados que exportamos\r\n",
        "pd.read_csv(\"cars.csv\")"
      ],
      "execution_count": 57,
      "outputs": [
        {
          "output_type": "execute_result",
          "data": {
            "text/html": [
              "<div>\n",
              "<style scoped>\n",
              "    .dataframe tbody tr th:only-of-type {\n",
              "        vertical-align: middle;\n",
              "    }\n",
              "\n",
              "    .dataframe tbody tr th {\n",
              "        vertical-align: top;\n",
              "    }\n",
              "\n",
              "    .dataframe thead th {\n",
              "        text-align: right;\n",
              "    }\n",
              "</style>\n",
              "<table border=\"1\" class=\"dataframe\">\n",
              "  <thead>\n",
              "    <tr style=\"text-align: right;\">\n",
              "      <th></th>\n",
              "      <th>marca</th>\n",
              "      <th>cidade</th>\n",
              "      <th>nome</th>\n",
              "      <th>categoria</th>\n",
              "      <th>preco</th>\n",
              "      <th>estado</th>\n",
              "      <th>link</th>\n",
              "      <th>ano_de_fabricacao</th>\n",
              "      <th>ano_do_modelo</th>\n",
              "      <th>km_rodados</th>\n",
              "    </tr>\n",
              "  </thead>\n",
              "  <tbody>\n",
              "    <tr>\n",
              "      <th>0</th>\n",
              "      <td>CHEVROLET</td>\n",
              "      <td>São Paulo</td>\n",
              "      <td>CHEVROLET JOY</td>\n",
              "      <td>Hatch</td>\n",
              "      <td>33960.0</td>\n",
              "      <td>SP</td>\n",
              "      <td>www.autoline.com.br/carro/chevrolet/joy-10-8v-...</td>\n",
              "      <td>2019</td>\n",
              "      <td>2020</td>\n",
              "      <td>0</td>\n",
              "    </tr>\n",
              "    <tr>\n",
              "      <th>1</th>\n",
              "      <td>HYUNDAI</td>\n",
              "      <td>São Paulo</td>\n",
              "      <td>HYUNDAI HB20</td>\n",
              "      <td>Hatch</td>\n",
              "      <td>35273.0</td>\n",
              "      <td>SP</td>\n",
              "      <td>www.autoline.com.br/carro/hyundai/hb20-10-visi...</td>\n",
              "      <td>2019</td>\n",
              "      <td>2020</td>\n",
              "      <td>0</td>\n",
              "    </tr>\n",
              "    <tr>\n",
              "      <th>2</th>\n",
              "      <td>HYUNDAI</td>\n",
              "      <td>São Paulo</td>\n",
              "      <td>HYUNDAI HB20S</td>\n",
              "      <td>Sedan</td>\n",
              "      <td>40817.0</td>\n",
              "      <td>SP</td>\n",
              "      <td>www.autoline.com.br/carro/hyundai/hb20s-10-vis...</td>\n",
              "      <td>2020</td>\n",
              "      <td>2021</td>\n",
              "      <td>0</td>\n",
              "    </tr>\n",
              "    <tr>\n",
              "      <th>3</th>\n",
              "      <td>HONDA</td>\n",
              "      <td>São Paulo</td>\n",
              "      <td>HONDA FIT</td>\n",
              "      <td>Mini Van</td>\n",
              "      <td>40000.0</td>\n",
              "      <td>SP</td>\n",
              "      <td>www.autoline.com.br/carro/honda/fit-14-lx-16v-...</td>\n",
              "      <td>2013</td>\n",
              "      <td>2014</td>\n",
              "      <td>78348</td>\n",
              "    </tr>\n",
              "    <tr>\n",
              "      <th>4</th>\n",
              "      <td>FIAT</td>\n",
              "      <td>São Paulo</td>\n",
              "      <td>FIAT UNO</td>\n",
              "      <td>Hatch</td>\n",
              "      <td>14990.0</td>\n",
              "      <td>SP</td>\n",
              "      <td>www.autoline.com.br/carro/fiat/uno-10-mille-fi...</td>\n",
              "      <td>2011</td>\n",
              "      <td>2012</td>\n",
              "      <td>15990</td>\n",
              "    </tr>\n",
              "    <tr>\n",
              "      <th>...</th>\n",
              "      <td>...</td>\n",
              "      <td>...</td>\n",
              "      <td>...</td>\n",
              "      <td>...</td>\n",
              "      <td>...</td>\n",
              "      <td>...</td>\n",
              "      <td>...</td>\n",
              "      <td>...</td>\n",
              "      <td>...</td>\n",
              "      <td>...</td>\n",
              "    </tr>\n",
              "    <tr>\n",
              "      <th>2395</th>\n",
              "      <td>FORD</td>\n",
              "      <td>São Paulo</td>\n",
              "      <td>FORD RANGER</td>\n",
              "      <td>Picape</td>\n",
              "      <td>89890.0</td>\n",
              "      <td>SP</td>\n",
              "      <td>www.autoline.com.br/carro/ford/ranger-22-cd-xl...</td>\n",
              "      <td>2013</td>\n",
              "      <td>2013</td>\n",
              "      <td>73000</td>\n",
              "    </tr>\n",
              "    <tr>\n",
              "      <th>2396</th>\n",
              "      <td>HYUNDAI</td>\n",
              "      <td>São Paulo</td>\n",
              "      <td>HYUNDAI TUCSON</td>\n",
              "      <td>Utilitário</td>\n",
              "      <td>29900.0</td>\n",
              "      <td>SP</td>\n",
              "      <td>www.autoline.com.br/carro/hyundai/tucson-20-gl...</td>\n",
              "      <td>2011</td>\n",
              "      <td>2011</td>\n",
              "      <td>161229</td>\n",
              "    </tr>\n",
              "    <tr>\n",
              "      <th>2397</th>\n",
              "      <td>MERCEDES-BENZ</td>\n",
              "      <td>São Paulo</td>\n",
              "      <td>MERCEDES-BENZ A 200</td>\n",
              "      <td>Sedan</td>\n",
              "      <td>215880.0</td>\n",
              "      <td>SP</td>\n",
              "      <td>www.autoline.com.br/carro/mercedes-benz/a-200-...</td>\n",
              "      <td>2019</td>\n",
              "      <td>2020</td>\n",
              "      <td>4100</td>\n",
              "    </tr>\n",
              "    <tr>\n",
              "      <th>2398</th>\n",
              "      <td>CITROEN</td>\n",
              "      <td>São Paulo</td>\n",
              "      <td>CITROEN AIRCROSS</td>\n",
              "      <td>SUV</td>\n",
              "      <td>56880.0</td>\n",
              "      <td>SP</td>\n",
              "      <td>www.autoline.com.br/carro/citroen/aircross-16-...</td>\n",
              "      <td>2017</td>\n",
              "      <td>2017</td>\n",
              "      <td>28000</td>\n",
              "    </tr>\n",
              "    <tr>\n",
              "      <th>2399</th>\n",
              "      <td>RENAULT</td>\n",
              "      <td>São Paulo</td>\n",
              "      <td>RENAULT KWID</td>\n",
              "      <td>Hatch</td>\n",
              "      <td>26990.0</td>\n",
              "      <td>SP</td>\n",
              "      <td>www.autoline.com.br/carro/renault/kwid-10-life...</td>\n",
              "      <td>2020</td>\n",
              "      <td>2021</td>\n",
              "      <td>0</td>\n",
              "    </tr>\n",
              "  </tbody>\n",
              "</table>\n",
              "<p>2400 rows × 10 columns</p>\n",
              "</div>"
            ],
            "text/plain": [
              "              marca     cidade  ... ano_do_modelo km_rodados\n",
              "0         CHEVROLET  São Paulo  ...          2020          0\n",
              "1           HYUNDAI  São Paulo  ...          2020          0\n",
              "2           HYUNDAI  São Paulo  ...          2021          0\n",
              "3             HONDA  São Paulo  ...          2014      78348\n",
              "4              FIAT  São Paulo  ...          2012      15990\n",
              "...             ...        ...  ...           ...        ...\n",
              "2395           FORD  São Paulo  ...          2013      73000\n",
              "2396        HYUNDAI  São Paulo  ...          2011     161229\n",
              "2397  MERCEDES-BENZ  São Paulo  ...          2020       4100\n",
              "2398        CITROEN  São Paulo  ...          2017      28000\n",
              "2399        RENAULT  São Paulo  ...          2021          0\n",
              "\n",
              "[2400 rows x 10 columns]"
            ]
          },
          "metadata": {
            "tags": []
          },
          "execution_count": 57
        }
      ]
    },
    {
      "cell_type": "markdown",
      "metadata": {
        "id": "V8ALV4uwsT48"
      },
      "source": [
        "Aparentemente está tudo OK , mas por garantia vamos ver se temos algum dados nulo e os tipos de dados neste *DataFrame*"
      ]
    },
    {
      "cell_type": "code",
      "metadata": {
        "colab": {
          "base_uri": "https://localhost:8080/"
        },
        "id": "bBu4sFY7sTIS",
        "outputId": "e1fd6586-7e6d-406b-f8c5-02a906b59ce6"
      },
      "source": [
        "data = pd.read_csv(\"cars.csv\")\r\n",
        "data.isnull().sum()"
      ],
      "execution_count": 58,
      "outputs": [
        {
          "output_type": "execute_result",
          "data": {
            "text/plain": [
              "marca                0\n",
              "cidade               0\n",
              "nome                 0\n",
              "categoria            0\n",
              "preco                0\n",
              "estado               0\n",
              "link                 0\n",
              "ano_de_fabricacao    0\n",
              "ano_do_modelo        0\n",
              "km_rodados           0\n",
              "dtype: int64"
            ]
          },
          "metadata": {
            "tags": []
          },
          "execution_count": 58
        }
      ]
    },
    {
      "cell_type": "markdown",
      "metadata": {
        "id": "iYloM4dEsiOw"
      },
      "source": [
        "Nenhum dado nulo"
      ]
    },
    {
      "cell_type": "code",
      "metadata": {
        "colab": {
          "base_uri": "https://localhost:8080/"
        },
        "id": "V3ZuPeV6shZG",
        "outputId": "e873d11f-69b9-43b1-aadd-16efa1dd8bd4"
      },
      "source": [
        "data.dtypes"
      ],
      "execution_count": 59,
      "outputs": [
        {
          "output_type": "execute_result",
          "data": {
            "text/plain": [
              "marca                 object\n",
              "cidade                object\n",
              "nome                  object\n",
              "categoria             object\n",
              "preco                float64\n",
              "estado                object\n",
              "link                  object\n",
              "ano_de_fabricacao      int64\n",
              "ano_do_modelo          int64\n",
              "km_rodados             int64\n",
              "dtype: object"
            ]
          },
          "metadata": {
            "tags": []
          },
          "execution_count": 59
        }
      ]
    },
    {
      "cell_type": "markdown",
      "metadata": {
        "id": "sOCOs_e_sseF"
      },
      "source": [
        "Os tipos dos nossos dados também estão corretos"
      ]
    },
    {
      "cell_type": "markdown",
      "metadata": {
        "id": "27pc1klMzVpl"
      },
      "source": [
        "#### **Bônus** (Scraping de TODAS as páginas)"
      ]
    },
    {
      "cell_type": "markdown",
      "metadata": {
        "id": "XZPUkscsze7L"
      },
      "source": [
        "Digamos que você necessite de fato de todas as páginas , mas quer , de forma automatzada , recolher todas elas , ensinarei aqui como fazer isso."
      ]
    },
    {
      "cell_type": "code",
      "metadata": {
        "colab": {
          "base_uri": "https://localhost:8080/"
        },
        "id": "RBloKLJHz41S",
        "outputId": "b608a952-bfb8-48e1-d286-7399d1da19a9"
      },
      "source": [
        "# obtendo a url da página 1\r\n",
        "path = \"https://busca.autoline.com.br/comprar/carros/novos-seminovos-usados/todos-os-estados/todas-as-cidades/todas-as-marcas/todos-os-modelos/todas-as-versoes/todos-os-anos/todas-as-cores/todos-os-precos/\"\r\n",
        "\r\n",
        "# abrindo a url\r\n",
        "response = urlopen(url)\r\n",
        "\r\n",
        "#decodificando o html para UTF-8\r\n",
        "html = response.read().decode('utf-8')\r\n",
        "\r\n",
        "# Criando o objeto BeautifulSoup\r\n",
        "soup = BeautifulSoup(html , 'html.parser')\r\n",
        "\r\n",
        "#descobrindo o número de itens totais\r\n",
        "n_itens = soup.find(\"h3\", class_=\"sub-title\").find(class_=\"neemu-total-products-container\").find(\"strong\").get_text().replace(\".\",\"\").split()[0]\r\n",
        "n_itens = int(n_itens)\r\n",
        "\r\n",
        "print(n_itens)"
      ],
      "execution_count": 63,
      "outputs": [
        {
          "output_type": "stream",
          "text": [
            "165751\n"
          ],
          "name": "stdout"
        }
      ]
    },
    {
      "cell_type": "markdown",
      "metadata": {
        "id": "MyIa00A00gyo"
      },
      "source": [
        "Observe que o que descobrimos não foi o número de páginas , mas sim o total de carros cadastrados , que o próprio site disponibiliza . Para descobrir as páginas , devemos dividir este valor por 24 , ou seja o número de itens por páginas"
      ]
    },
    {
      "cell_type": "code",
      "metadata": {
        "colab": {
          "base_uri": "https://localhost:8080/"
        },
        "id": "53AMTwyp0wV_",
        "outputId": "b7f2e2dd-0beb-4cf2-9433-d3ca39502d55"
      },
      "source": [
        "# dividindo o número de carros pela quantidade de itens por página\r\n",
        "páginas = int(n_itens / 24)\r\n",
        "print(páginas)"
      ],
      "execution_count": 64,
      "outputs": [
        {
          "output_type": "stream",
          "text": [
            "6906\n"
          ],
          "name": "stdout"
        }
      ]
    },
    {
      "cell_type": "markdown",
      "metadata": {
        "id": "FZ4EHIOF003i"
      },
      "source": [
        "Assim , descobrimos que temos na verdade 6906 páginas , caso você ache ser necessário ter todos os dados dos carros , você pode usar este valor nas iterações"
      ]
    },
    {
      "cell_type": "markdown",
      "metadata": {
        "id": "2yaxcB2LtgLr"
      },
      "source": [
        "## Conclusões:"
      ]
    },
    {
      "cell_type": "markdown",
      "metadata": {
        "id": "AnN_eY4BtiMR"
      },
      "source": [
        "*Web Scraping* é uma técninca fundamental para cientista de dados e que cada vez mais vem sendo reconhecida como tal. Muitas empresas quando começam necessitam deste profissional e por vezes a mesma não tem dados o suficiente , portanto , cabe ao cientista de dados coletar eles no processo de \"**Mineração de Dados**\" e realizar a tarefa proposta . A ideia de coletar dados por servir para inumeras coisas , Marketing , análises de comportamento , migrar dados para outro site ou mesmo para um profissional que está começando e busca dados mais \"originais\". Pense mais nesta ideia , busque mais conhecimento sobre esta skill e com certeza será um grande profissional."
      ]
    },
    {
      "cell_type": "code",
      "metadata": {
        "id": "0EScBPF2srPk"
      },
      "source": [
        ""
      ],
      "execution_count": null,
      "outputs": []
    }
  ]
}